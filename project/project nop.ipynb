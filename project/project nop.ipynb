{
 "cells": [
  {
   "cell_type": "code",
   "execution_count": 1,
   "id": "2e88045a",
   "metadata": {},
   "outputs": [],
   "source": [
    "import pandas as pd\n",
    "import numpy as np\n",
    "import matplotlib.pyplot as plt"
   ]
  },
  {
   "cell_type": "markdown",
   "id": "fe9a710c",
   "metadata": {},
   "source": [
    "##### importing the data set whichh need to be used."
   ]
  },
  {
   "cell_type": "code",
   "execution_count": 2,
   "id": "ec96cd8f",
   "metadata": {},
   "outputs": [],
   "source": [
    "ds = pd.read_csv(\"Job description data set.csv\")"
   ]
  },
  {
   "cell_type": "code",
   "execution_count": 3,
   "id": "e72a9d2d",
   "metadata": {},
   "outputs": [
    {
     "data": {
      "text/html": [
       "<div>\n",
       "<style scoped>\n",
       "    .dataframe tbody tr th:only-of-type {\n",
       "        vertical-align: middle;\n",
       "    }\n",
       "\n",
       "    .dataframe tbody tr th {\n",
       "        vertical-align: top;\n",
       "    }\n",
       "\n",
       "    .dataframe thead th {\n",
       "        text-align: right;\n",
       "    }\n",
       "</style>\n",
       "<table border=\"1\" class=\"dataframe\">\n",
       "  <thead>\n",
       "    <tr style=\"text-align: right;\">\n",
       "      <th></th>\n",
       "      <th>Unnamed: 0</th>\n",
       "      <th>Job Title</th>\n",
       "      <th>Salary Estimate</th>\n",
       "      <th>Job Description</th>\n",
       "      <th>Rating</th>\n",
       "      <th>Company Name</th>\n",
       "      <th>Location</th>\n",
       "      <th>Headquarters</th>\n",
       "      <th>Size</th>\n",
       "      <th>Founded</th>\n",
       "      <th>Type of ownership</th>\n",
       "      <th>Industry</th>\n",
       "      <th>Sector</th>\n",
       "      <th>Revenue</th>\n",
       "      <th>Competitors</th>\n",
       "      <th>Easy Apply</th>\n",
       "    </tr>\n",
       "  </thead>\n",
       "  <tbody>\n",
       "    <tr>\n",
       "      <th>0</th>\n",
       "      <td>0</td>\n",
       "      <td>Data Analyst, Center on Immigration and Justic...</td>\n",
       "      <td>$37K-$66K (Glassdoor est.)</td>\n",
       "      <td>Are you eager to roll up your sleeves and harn...</td>\n",
       "      <td>3.2</td>\n",
       "      <td>Vera Institute of Justice\\n3.2</td>\n",
       "      <td>New York, NY</td>\n",
       "      <td>New York, NY</td>\n",
       "      <td>201 to 500 employees</td>\n",
       "      <td>1961</td>\n",
       "      <td>Nonprofit Organization</td>\n",
       "      <td>Social Assistance</td>\n",
       "      <td>Non-Profit</td>\n",
       "      <td>$100 to $500 million (USD)</td>\n",
       "      <td>-1</td>\n",
       "      <td>TRUE</td>\n",
       "    </tr>\n",
       "    <tr>\n",
       "      <th>1</th>\n",
       "      <td>1</td>\n",
       "      <td>Quality Data Analyst</td>\n",
       "      <td>$37K-$66K (Glassdoor est.)</td>\n",
       "      <td>Overview\\n\\nProvides analytical and technical ...</td>\n",
       "      <td>3.8</td>\n",
       "      <td>Visiting Nurse Service of New York\\n3.8</td>\n",
       "      <td>New York, NY</td>\n",
       "      <td>New York, NY</td>\n",
       "      <td>10000+ employees</td>\n",
       "      <td>1893</td>\n",
       "      <td>Nonprofit Organization</td>\n",
       "      <td>Health Care Services &amp; Hospitals</td>\n",
       "      <td>Health Care</td>\n",
       "      <td>$2 to $5 billion (USD)</td>\n",
       "      <td>-1</td>\n",
       "      <td>-1</td>\n",
       "    </tr>\n",
       "    <tr>\n",
       "      <th>2</th>\n",
       "      <td>2</td>\n",
       "      <td>Senior Data Analyst, Insights &amp; Analytics Team...</td>\n",
       "      <td>$37K-$66K (Glassdoor est.)</td>\n",
       "      <td>We’re looking for a Senior Data Analyst who ha...</td>\n",
       "      <td>3.4</td>\n",
       "      <td>Squarespace\\n3.4</td>\n",
       "      <td>New York, NY</td>\n",
       "      <td>New York, NY</td>\n",
       "      <td>1001 to 5000 employees</td>\n",
       "      <td>2003</td>\n",
       "      <td>Company - Private</td>\n",
       "      <td>Internet</td>\n",
       "      <td>Information Technology</td>\n",
       "      <td>Unknown / Non-Applicable</td>\n",
       "      <td>GoDaddy</td>\n",
       "      <td>-1</td>\n",
       "    </tr>\n",
       "    <tr>\n",
       "      <th>3</th>\n",
       "      <td>3</td>\n",
       "      <td>Data Analyst</td>\n",
       "      <td>$37K-$66K (Glassdoor est.)</td>\n",
       "      <td>Requisition NumberRR-0001939\\nRemote:Yes\\nWe c...</td>\n",
       "      <td>4.1</td>\n",
       "      <td>Celerity\\n4.1</td>\n",
       "      <td>New York, NY</td>\n",
       "      <td>McLean, VA</td>\n",
       "      <td>201 to 500 employees</td>\n",
       "      <td>2002</td>\n",
       "      <td>Subsidiary or Business Segment</td>\n",
       "      <td>IT Services</td>\n",
       "      <td>Information Technology</td>\n",
       "      <td>$50 to $100 million (USD)</td>\n",
       "      <td>-1</td>\n",
       "      <td>-1</td>\n",
       "    </tr>\n",
       "    <tr>\n",
       "      <th>4</th>\n",
       "      <td>4</td>\n",
       "      <td>Reporting Data Analyst</td>\n",
       "      <td>$37K-$66K (Glassdoor est.)</td>\n",
       "      <td>ABOUT FANDUEL GROUP\\n\\nFanDuel Group is a worl...</td>\n",
       "      <td>3.9</td>\n",
       "      <td>FanDuel\\n3.9</td>\n",
       "      <td>New York, NY</td>\n",
       "      <td>New York, NY</td>\n",
       "      <td>501 to 1000 employees</td>\n",
       "      <td>2009</td>\n",
       "      <td>Company - Private</td>\n",
       "      <td>Sports &amp; Recreation</td>\n",
       "      <td>Arts, Entertainment &amp; Recreation</td>\n",
       "      <td>$100 to $500 million (USD)</td>\n",
       "      <td>DraftKings</td>\n",
       "      <td>TRUE</td>\n",
       "    </tr>\n",
       "    <tr>\n",
       "      <th>...</th>\n",
       "      <td>...</td>\n",
       "      <td>...</td>\n",
       "      <td>...</td>\n",
       "      <td>...</td>\n",
       "      <td>...</td>\n",
       "      <td>...</td>\n",
       "      <td>...</td>\n",
       "      <td>...</td>\n",
       "      <td>...</td>\n",
       "      <td>...</td>\n",
       "      <td>...</td>\n",
       "      <td>...</td>\n",
       "      <td>...</td>\n",
       "      <td>...</td>\n",
       "      <td>...</td>\n",
       "      <td>...</td>\n",
       "    </tr>\n",
       "    <tr>\n",
       "      <th>2248</th>\n",
       "      <td>2248</td>\n",
       "      <td>RQS - IHHA - 201900004460 -1q Data Security An...</td>\n",
       "      <td>$78K-$104K (Glassdoor est.)</td>\n",
       "      <td>Maintains systems to protect data from unautho...</td>\n",
       "      <td>2.5</td>\n",
       "      <td>Avacend, Inc.\\n2.5</td>\n",
       "      <td>Denver, CO</td>\n",
       "      <td>Alpharetta, GA</td>\n",
       "      <td>51 to 200 employees</td>\n",
       "      <td>-1</td>\n",
       "      <td>Company - Private</td>\n",
       "      <td>Staffing &amp; Outsourcing</td>\n",
       "      <td>Business Services</td>\n",
       "      <td>Unknown / Non-Applicable</td>\n",
       "      <td>-1</td>\n",
       "      <td>-1</td>\n",
       "    </tr>\n",
       "    <tr>\n",
       "      <th>2249</th>\n",
       "      <td>2249</td>\n",
       "      <td>Senior Data Analyst (Corporate Audit)</td>\n",
       "      <td>$78K-$104K (Glassdoor est.)</td>\n",
       "      <td>Position:\\nSenior Data Analyst (Corporate Audi...</td>\n",
       "      <td>2.9</td>\n",
       "      <td>Arrow Electronics\\n2.9</td>\n",
       "      <td>Centennial, CO</td>\n",
       "      <td>Centennial, CO</td>\n",
       "      <td>10000+ employees</td>\n",
       "      <td>1935</td>\n",
       "      <td>Company - Public</td>\n",
       "      <td>Wholesale</td>\n",
       "      <td>Business Services</td>\n",
       "      <td>$10+ billion (USD)</td>\n",
       "      <td>Avnet, Ingram Micro, Tech Data</td>\n",
       "      <td>-1</td>\n",
       "    </tr>\n",
       "    <tr>\n",
       "      <th>2250</th>\n",
       "      <td>2250</td>\n",
       "      <td>Technical Business Analyst (SQL, Data analytic...</td>\n",
       "      <td>$78K-$104K (Glassdoor est.)</td>\n",
       "      <td>Title: Technical Business Analyst (SQL, Data a...</td>\n",
       "      <td>-1.0</td>\n",
       "      <td>Spiceorb</td>\n",
       "      <td>Denver, CO</td>\n",
       "      <td>-1</td>\n",
       "      <td>-1</td>\n",
       "      <td>-1</td>\n",
       "      <td>-1</td>\n",
       "      <td>-1</td>\n",
       "      <td>-1</td>\n",
       "      <td>-1</td>\n",
       "      <td>-1</td>\n",
       "      <td>-1</td>\n",
       "    </tr>\n",
       "    <tr>\n",
       "      <th>2251</th>\n",
       "      <td>2251</td>\n",
       "      <td>Data Analyst 3, Customer Experience</td>\n",
       "      <td>$78K-$104K (Glassdoor est.)</td>\n",
       "      <td>Summary\\n\\nResponsible for working cross-funct...</td>\n",
       "      <td>3.1</td>\n",
       "      <td>Contingent Network Services\\n3.1</td>\n",
       "      <td>Centennial, CO</td>\n",
       "      <td>West Chester, OH</td>\n",
       "      <td>201 to 500 employees</td>\n",
       "      <td>1984</td>\n",
       "      <td>Company - Private</td>\n",
       "      <td>Enterprise Software &amp; Network Solutions</td>\n",
       "      <td>Information Technology</td>\n",
       "      <td>$25 to $50 million (USD)</td>\n",
       "      <td>-1</td>\n",
       "      <td>-1</td>\n",
       "    </tr>\n",
       "    <tr>\n",
       "      <th>2252</th>\n",
       "      <td>2252</td>\n",
       "      <td>Senior Quality Data Analyst</td>\n",
       "      <td>$78K-$104K (Glassdoor est.)</td>\n",
       "      <td>You.\\n\\nYou bring your body, mind, heart and s...</td>\n",
       "      <td>3.4</td>\n",
       "      <td>SCL Health\\n3.4</td>\n",
       "      <td>Broomfield, CO</td>\n",
       "      <td>Broomfield, CO</td>\n",
       "      <td>10000+ employees</td>\n",
       "      <td>1864</td>\n",
       "      <td>Nonprofit Organization</td>\n",
       "      <td>Health Care Services &amp; Hospitals</td>\n",
       "      <td>Health Care</td>\n",
       "      <td>$2 to $5 billion (USD)</td>\n",
       "      <td>Centura Health, HealthONE, Denver Health and H...</td>\n",
       "      <td>-1</td>\n",
       "    </tr>\n",
       "  </tbody>\n",
       "</table>\n",
       "<p>2253 rows × 16 columns</p>\n",
       "</div>"
      ],
      "text/plain": [
       "      Unnamed: 0                                          Job Title  \\\n",
       "0              0  Data Analyst, Center on Immigration and Justic...   \n",
       "1              1                               Quality Data Analyst   \n",
       "2              2  Senior Data Analyst, Insights & Analytics Team...   \n",
       "3              3                                       Data Analyst   \n",
       "4              4                             Reporting Data Analyst   \n",
       "...          ...                                                ...   \n",
       "2248        2248  RQS - IHHA - 201900004460 -1q Data Security An...   \n",
       "2249        2249              Senior Data Analyst (Corporate Audit)   \n",
       "2250        2250  Technical Business Analyst (SQL, Data analytic...   \n",
       "2251        2251                Data Analyst 3, Customer Experience   \n",
       "2252        2252                        Senior Quality Data Analyst   \n",
       "\n",
       "                  Salary Estimate  \\\n",
       "0      $37K-$66K (Glassdoor est.)   \n",
       "1      $37K-$66K (Glassdoor est.)   \n",
       "2      $37K-$66K (Glassdoor est.)   \n",
       "3      $37K-$66K (Glassdoor est.)   \n",
       "4      $37K-$66K (Glassdoor est.)   \n",
       "...                           ...   \n",
       "2248  $78K-$104K (Glassdoor est.)   \n",
       "2249  $78K-$104K (Glassdoor est.)   \n",
       "2250  $78K-$104K (Glassdoor est.)   \n",
       "2251  $78K-$104K (Glassdoor est.)   \n",
       "2252  $78K-$104K (Glassdoor est.)   \n",
       "\n",
       "                                        Job Description  Rating  \\\n",
       "0     Are you eager to roll up your sleeves and harn...     3.2   \n",
       "1     Overview\\n\\nProvides analytical and technical ...     3.8   \n",
       "2     We’re looking for a Senior Data Analyst who ha...     3.4   \n",
       "3     Requisition NumberRR-0001939\\nRemote:Yes\\nWe c...     4.1   \n",
       "4     ABOUT FANDUEL GROUP\\n\\nFanDuel Group is a worl...     3.9   \n",
       "...                                                 ...     ...   \n",
       "2248  Maintains systems to protect data from unautho...     2.5   \n",
       "2249  Position:\\nSenior Data Analyst (Corporate Audi...     2.9   \n",
       "2250  Title: Technical Business Analyst (SQL, Data a...    -1.0   \n",
       "2251  Summary\\n\\nResponsible for working cross-funct...     3.1   \n",
       "2252  You.\\n\\nYou bring your body, mind, heart and s...     3.4   \n",
       "\n",
       "                                 Company Name        Location  \\\n",
       "0              Vera Institute of Justice\\n3.2    New York, NY   \n",
       "1     Visiting Nurse Service of New York\\n3.8    New York, NY   \n",
       "2                            Squarespace\\n3.4    New York, NY   \n",
       "3                               Celerity\\n4.1    New York, NY   \n",
       "4                                FanDuel\\n3.9    New York, NY   \n",
       "...                                       ...             ...   \n",
       "2248                       Avacend, Inc.\\n2.5      Denver, CO   \n",
       "2249                   Arrow Electronics\\n2.9  Centennial, CO   \n",
       "2250                                 Spiceorb      Denver, CO   \n",
       "2251         Contingent Network Services\\n3.1  Centennial, CO   \n",
       "2252                          SCL Health\\n3.4  Broomfield, CO   \n",
       "\n",
       "          Headquarters                    Size  Founded  \\\n",
       "0         New York, NY    201 to 500 employees     1961   \n",
       "1         New York, NY        10000+ employees     1893   \n",
       "2         New York, NY  1001 to 5000 employees     2003   \n",
       "3           McLean, VA    201 to 500 employees     2002   \n",
       "4         New York, NY   501 to 1000 employees     2009   \n",
       "...                ...                     ...      ...   \n",
       "2248    Alpharetta, GA     51 to 200 employees       -1   \n",
       "2249    Centennial, CO        10000+ employees     1935   \n",
       "2250                -1                      -1       -1   \n",
       "2251  West Chester, OH    201 to 500 employees     1984   \n",
       "2252    Broomfield, CO        10000+ employees     1864   \n",
       "\n",
       "                   Type of ownership                                 Industry  \\\n",
       "0             Nonprofit Organization                        Social Assistance   \n",
       "1             Nonprofit Organization         Health Care Services & Hospitals   \n",
       "2                  Company - Private                                 Internet   \n",
       "3     Subsidiary or Business Segment                              IT Services   \n",
       "4                  Company - Private                      Sports & Recreation   \n",
       "...                              ...                                      ...   \n",
       "2248               Company - Private                   Staffing & Outsourcing   \n",
       "2249                Company - Public                                Wholesale   \n",
       "2250                              -1                                       -1   \n",
       "2251               Company - Private  Enterprise Software & Network Solutions   \n",
       "2252          Nonprofit Organization         Health Care Services & Hospitals   \n",
       "\n",
       "                                Sector                     Revenue  \\\n",
       "0                           Non-Profit  $100 to $500 million (USD)   \n",
       "1                          Health Care      $2 to $5 billion (USD)   \n",
       "2               Information Technology    Unknown / Non-Applicable   \n",
       "3               Information Technology   $50 to $100 million (USD)   \n",
       "4     Arts, Entertainment & Recreation  $100 to $500 million (USD)   \n",
       "...                                ...                         ...   \n",
       "2248                 Business Services    Unknown / Non-Applicable   \n",
       "2249                 Business Services          $10+ billion (USD)   \n",
       "2250                                -1                          -1   \n",
       "2251            Information Technology    $25 to $50 million (USD)   \n",
       "2252                       Health Care      $2 to $5 billion (USD)   \n",
       "\n",
       "                                            Competitors Easy Apply  \n",
       "0                                                    -1       TRUE  \n",
       "1                                                    -1         -1  \n",
       "2                                               GoDaddy         -1  \n",
       "3                                                    -1         -1  \n",
       "4                                            DraftKings       TRUE  \n",
       "...                                                 ...        ...  \n",
       "2248                                                 -1         -1  \n",
       "2249                     Avnet, Ingram Micro, Tech Data         -1  \n",
       "2250                                                 -1         -1  \n",
       "2251                                                 -1         -1  \n",
       "2252  Centura Health, HealthONE, Denver Health and H...         -1  \n",
       "\n",
       "[2253 rows x 16 columns]"
      ]
     },
     "execution_count": 3,
     "metadata": {},
     "output_type": "execute_result"
    }
   ],
   "source": [
    "ds"
   ]
  },
  {
   "cell_type": "markdown",
   "id": "77a0aec2",
   "metadata": {},
   "source": [
    "##### we have used the command below to view the first five columns of our data set"
   ]
  },
  {
   "cell_type": "code",
   "execution_count": 4,
   "id": "009a481b",
   "metadata": {},
   "outputs": [
    {
     "data": {
      "text/html": [
       "<div>\n",
       "<style scoped>\n",
       "    .dataframe tbody tr th:only-of-type {\n",
       "        vertical-align: middle;\n",
       "    }\n",
       "\n",
       "    .dataframe tbody tr th {\n",
       "        vertical-align: top;\n",
       "    }\n",
       "\n",
       "    .dataframe thead th {\n",
       "        text-align: right;\n",
       "    }\n",
       "</style>\n",
       "<table border=\"1\" class=\"dataframe\">\n",
       "  <thead>\n",
       "    <tr style=\"text-align: right;\">\n",
       "      <th></th>\n",
       "      <th>Unnamed: 0</th>\n",
       "      <th>Job Title</th>\n",
       "      <th>Salary Estimate</th>\n",
       "      <th>Job Description</th>\n",
       "      <th>Rating</th>\n",
       "      <th>Company Name</th>\n",
       "      <th>Location</th>\n",
       "      <th>Headquarters</th>\n",
       "      <th>Size</th>\n",
       "      <th>Founded</th>\n",
       "      <th>Type of ownership</th>\n",
       "      <th>Industry</th>\n",
       "      <th>Sector</th>\n",
       "      <th>Revenue</th>\n",
       "      <th>Competitors</th>\n",
       "      <th>Easy Apply</th>\n",
       "    </tr>\n",
       "  </thead>\n",
       "  <tbody>\n",
       "    <tr>\n",
       "      <th>0</th>\n",
       "      <td>0</td>\n",
       "      <td>Data Analyst, Center on Immigration and Justic...</td>\n",
       "      <td>$37K-$66K (Glassdoor est.)</td>\n",
       "      <td>Are you eager to roll up your sleeves and harn...</td>\n",
       "      <td>3.2</td>\n",
       "      <td>Vera Institute of Justice\\n3.2</td>\n",
       "      <td>New York, NY</td>\n",
       "      <td>New York, NY</td>\n",
       "      <td>201 to 500 employees</td>\n",
       "      <td>1961</td>\n",
       "      <td>Nonprofit Organization</td>\n",
       "      <td>Social Assistance</td>\n",
       "      <td>Non-Profit</td>\n",
       "      <td>$100 to $500 million (USD)</td>\n",
       "      <td>-1</td>\n",
       "      <td>TRUE</td>\n",
       "    </tr>\n",
       "    <tr>\n",
       "      <th>1</th>\n",
       "      <td>1</td>\n",
       "      <td>Quality Data Analyst</td>\n",
       "      <td>$37K-$66K (Glassdoor est.)</td>\n",
       "      <td>Overview\\n\\nProvides analytical and technical ...</td>\n",
       "      <td>3.8</td>\n",
       "      <td>Visiting Nurse Service of New York\\n3.8</td>\n",
       "      <td>New York, NY</td>\n",
       "      <td>New York, NY</td>\n",
       "      <td>10000+ employees</td>\n",
       "      <td>1893</td>\n",
       "      <td>Nonprofit Organization</td>\n",
       "      <td>Health Care Services &amp; Hospitals</td>\n",
       "      <td>Health Care</td>\n",
       "      <td>$2 to $5 billion (USD)</td>\n",
       "      <td>-1</td>\n",
       "      <td>-1</td>\n",
       "    </tr>\n",
       "    <tr>\n",
       "      <th>2</th>\n",
       "      <td>2</td>\n",
       "      <td>Senior Data Analyst, Insights &amp; Analytics Team...</td>\n",
       "      <td>$37K-$66K (Glassdoor est.)</td>\n",
       "      <td>We’re looking for a Senior Data Analyst who ha...</td>\n",
       "      <td>3.4</td>\n",
       "      <td>Squarespace\\n3.4</td>\n",
       "      <td>New York, NY</td>\n",
       "      <td>New York, NY</td>\n",
       "      <td>1001 to 5000 employees</td>\n",
       "      <td>2003</td>\n",
       "      <td>Company - Private</td>\n",
       "      <td>Internet</td>\n",
       "      <td>Information Technology</td>\n",
       "      <td>Unknown / Non-Applicable</td>\n",
       "      <td>GoDaddy</td>\n",
       "      <td>-1</td>\n",
       "    </tr>\n",
       "    <tr>\n",
       "      <th>3</th>\n",
       "      <td>3</td>\n",
       "      <td>Data Analyst</td>\n",
       "      <td>$37K-$66K (Glassdoor est.)</td>\n",
       "      <td>Requisition NumberRR-0001939\\nRemote:Yes\\nWe c...</td>\n",
       "      <td>4.1</td>\n",
       "      <td>Celerity\\n4.1</td>\n",
       "      <td>New York, NY</td>\n",
       "      <td>McLean, VA</td>\n",
       "      <td>201 to 500 employees</td>\n",
       "      <td>2002</td>\n",
       "      <td>Subsidiary or Business Segment</td>\n",
       "      <td>IT Services</td>\n",
       "      <td>Information Technology</td>\n",
       "      <td>$50 to $100 million (USD)</td>\n",
       "      <td>-1</td>\n",
       "      <td>-1</td>\n",
       "    </tr>\n",
       "    <tr>\n",
       "      <th>4</th>\n",
       "      <td>4</td>\n",
       "      <td>Reporting Data Analyst</td>\n",
       "      <td>$37K-$66K (Glassdoor est.)</td>\n",
       "      <td>ABOUT FANDUEL GROUP\\n\\nFanDuel Group is a worl...</td>\n",
       "      <td>3.9</td>\n",
       "      <td>FanDuel\\n3.9</td>\n",
       "      <td>New York, NY</td>\n",
       "      <td>New York, NY</td>\n",
       "      <td>501 to 1000 employees</td>\n",
       "      <td>2009</td>\n",
       "      <td>Company - Private</td>\n",
       "      <td>Sports &amp; Recreation</td>\n",
       "      <td>Arts, Entertainment &amp; Recreation</td>\n",
       "      <td>$100 to $500 million (USD)</td>\n",
       "      <td>DraftKings</td>\n",
       "      <td>TRUE</td>\n",
       "    </tr>\n",
       "  </tbody>\n",
       "</table>\n",
       "</div>"
      ],
      "text/plain": [
       "   Unnamed: 0                                          Job Title  \\\n",
       "0           0  Data Analyst, Center on Immigration and Justic...   \n",
       "1           1                               Quality Data Analyst   \n",
       "2           2  Senior Data Analyst, Insights & Analytics Team...   \n",
       "3           3                                       Data Analyst   \n",
       "4           4                             Reporting Data Analyst   \n",
       "\n",
       "              Salary Estimate  \\\n",
       "0  $37K-$66K (Glassdoor est.)   \n",
       "1  $37K-$66K (Glassdoor est.)   \n",
       "2  $37K-$66K (Glassdoor est.)   \n",
       "3  $37K-$66K (Glassdoor est.)   \n",
       "4  $37K-$66K (Glassdoor est.)   \n",
       "\n",
       "                                     Job Description  Rating  \\\n",
       "0  Are you eager to roll up your sleeves and harn...     3.2   \n",
       "1  Overview\\n\\nProvides analytical and technical ...     3.8   \n",
       "2  We’re looking for a Senior Data Analyst who ha...     3.4   \n",
       "3  Requisition NumberRR-0001939\\nRemote:Yes\\nWe c...     4.1   \n",
       "4  ABOUT FANDUEL GROUP\\n\\nFanDuel Group is a worl...     3.9   \n",
       "\n",
       "                              Company Name      Location  Headquarters  \\\n",
       "0           Vera Institute of Justice\\n3.2  New York, NY  New York, NY   \n",
       "1  Visiting Nurse Service of New York\\n3.8  New York, NY  New York, NY   \n",
       "2                         Squarespace\\n3.4  New York, NY  New York, NY   \n",
       "3                            Celerity\\n4.1  New York, NY    McLean, VA   \n",
       "4                             FanDuel\\n3.9  New York, NY  New York, NY   \n",
       "\n",
       "                     Size  Founded               Type of ownership  \\\n",
       "0    201 to 500 employees     1961          Nonprofit Organization   \n",
       "1        10000+ employees     1893          Nonprofit Organization   \n",
       "2  1001 to 5000 employees     2003               Company - Private   \n",
       "3    201 to 500 employees     2002  Subsidiary or Business Segment   \n",
       "4   501 to 1000 employees     2009               Company - Private   \n",
       "\n",
       "                           Industry                            Sector  \\\n",
       "0                 Social Assistance                        Non-Profit   \n",
       "1  Health Care Services & Hospitals                       Health Care   \n",
       "2                          Internet            Information Technology   \n",
       "3                       IT Services            Information Technology   \n",
       "4               Sports & Recreation  Arts, Entertainment & Recreation   \n",
       "\n",
       "                      Revenue Competitors Easy Apply  \n",
       "0  $100 to $500 million (USD)          -1       TRUE  \n",
       "1      $2 to $5 billion (USD)          -1         -1  \n",
       "2    Unknown / Non-Applicable     GoDaddy         -1  \n",
       "3   $50 to $100 million (USD)          -1         -1  \n",
       "4  $100 to $500 million (USD)  DraftKings       TRUE  "
      ]
     },
     "execution_count": 4,
     "metadata": {},
     "output_type": "execute_result"
    }
   ],
   "source": [
    "ds.head()"
   ]
  },
  {
   "cell_type": "markdown",
   "id": "6801b637",
   "metadata": {},
   "source": [
    "##### we have used the command below to view te last five columns of the data set"
   ]
  },
  {
   "cell_type": "code",
   "execution_count": 5,
   "id": "33e4c78f",
   "metadata": {},
   "outputs": [
    {
     "data": {
      "text/html": [
       "<div>\n",
       "<style scoped>\n",
       "    .dataframe tbody tr th:only-of-type {\n",
       "        vertical-align: middle;\n",
       "    }\n",
       "\n",
       "    .dataframe tbody tr th {\n",
       "        vertical-align: top;\n",
       "    }\n",
       "\n",
       "    .dataframe thead th {\n",
       "        text-align: right;\n",
       "    }\n",
       "</style>\n",
       "<table border=\"1\" class=\"dataframe\">\n",
       "  <thead>\n",
       "    <tr style=\"text-align: right;\">\n",
       "      <th></th>\n",
       "      <th>Unnamed: 0</th>\n",
       "      <th>Job Title</th>\n",
       "      <th>Salary Estimate</th>\n",
       "      <th>Job Description</th>\n",
       "      <th>Rating</th>\n",
       "      <th>Company Name</th>\n",
       "      <th>Location</th>\n",
       "      <th>Headquarters</th>\n",
       "      <th>Size</th>\n",
       "      <th>Founded</th>\n",
       "      <th>Type of ownership</th>\n",
       "      <th>Industry</th>\n",
       "      <th>Sector</th>\n",
       "      <th>Revenue</th>\n",
       "      <th>Competitors</th>\n",
       "      <th>Easy Apply</th>\n",
       "    </tr>\n",
       "  </thead>\n",
       "  <tbody>\n",
       "    <tr>\n",
       "      <th>2248</th>\n",
       "      <td>2248</td>\n",
       "      <td>RQS - IHHA - 201900004460 -1q Data Security An...</td>\n",
       "      <td>$78K-$104K (Glassdoor est.)</td>\n",
       "      <td>Maintains systems to protect data from unautho...</td>\n",
       "      <td>2.5</td>\n",
       "      <td>Avacend, Inc.\\n2.5</td>\n",
       "      <td>Denver, CO</td>\n",
       "      <td>Alpharetta, GA</td>\n",
       "      <td>51 to 200 employees</td>\n",
       "      <td>-1</td>\n",
       "      <td>Company - Private</td>\n",
       "      <td>Staffing &amp; Outsourcing</td>\n",
       "      <td>Business Services</td>\n",
       "      <td>Unknown / Non-Applicable</td>\n",
       "      <td>-1</td>\n",
       "      <td>-1</td>\n",
       "    </tr>\n",
       "    <tr>\n",
       "      <th>2249</th>\n",
       "      <td>2249</td>\n",
       "      <td>Senior Data Analyst (Corporate Audit)</td>\n",
       "      <td>$78K-$104K (Glassdoor est.)</td>\n",
       "      <td>Position:\\nSenior Data Analyst (Corporate Audi...</td>\n",
       "      <td>2.9</td>\n",
       "      <td>Arrow Electronics\\n2.9</td>\n",
       "      <td>Centennial, CO</td>\n",
       "      <td>Centennial, CO</td>\n",
       "      <td>10000+ employees</td>\n",
       "      <td>1935</td>\n",
       "      <td>Company - Public</td>\n",
       "      <td>Wholesale</td>\n",
       "      <td>Business Services</td>\n",
       "      <td>$10+ billion (USD)</td>\n",
       "      <td>Avnet, Ingram Micro, Tech Data</td>\n",
       "      <td>-1</td>\n",
       "    </tr>\n",
       "    <tr>\n",
       "      <th>2250</th>\n",
       "      <td>2250</td>\n",
       "      <td>Technical Business Analyst (SQL, Data analytic...</td>\n",
       "      <td>$78K-$104K (Glassdoor est.)</td>\n",
       "      <td>Title: Technical Business Analyst (SQL, Data a...</td>\n",
       "      <td>-1.0</td>\n",
       "      <td>Spiceorb</td>\n",
       "      <td>Denver, CO</td>\n",
       "      <td>-1</td>\n",
       "      <td>-1</td>\n",
       "      <td>-1</td>\n",
       "      <td>-1</td>\n",
       "      <td>-1</td>\n",
       "      <td>-1</td>\n",
       "      <td>-1</td>\n",
       "      <td>-1</td>\n",
       "      <td>-1</td>\n",
       "    </tr>\n",
       "    <tr>\n",
       "      <th>2251</th>\n",
       "      <td>2251</td>\n",
       "      <td>Data Analyst 3, Customer Experience</td>\n",
       "      <td>$78K-$104K (Glassdoor est.)</td>\n",
       "      <td>Summary\\n\\nResponsible for working cross-funct...</td>\n",
       "      <td>3.1</td>\n",
       "      <td>Contingent Network Services\\n3.1</td>\n",
       "      <td>Centennial, CO</td>\n",
       "      <td>West Chester, OH</td>\n",
       "      <td>201 to 500 employees</td>\n",
       "      <td>1984</td>\n",
       "      <td>Company - Private</td>\n",
       "      <td>Enterprise Software &amp; Network Solutions</td>\n",
       "      <td>Information Technology</td>\n",
       "      <td>$25 to $50 million (USD)</td>\n",
       "      <td>-1</td>\n",
       "      <td>-1</td>\n",
       "    </tr>\n",
       "    <tr>\n",
       "      <th>2252</th>\n",
       "      <td>2252</td>\n",
       "      <td>Senior Quality Data Analyst</td>\n",
       "      <td>$78K-$104K (Glassdoor est.)</td>\n",
       "      <td>You.\\n\\nYou bring your body, mind, heart and s...</td>\n",
       "      <td>3.4</td>\n",
       "      <td>SCL Health\\n3.4</td>\n",
       "      <td>Broomfield, CO</td>\n",
       "      <td>Broomfield, CO</td>\n",
       "      <td>10000+ employees</td>\n",
       "      <td>1864</td>\n",
       "      <td>Nonprofit Organization</td>\n",
       "      <td>Health Care Services &amp; Hospitals</td>\n",
       "      <td>Health Care</td>\n",
       "      <td>$2 to $5 billion (USD)</td>\n",
       "      <td>Centura Health, HealthONE, Denver Health and H...</td>\n",
       "      <td>-1</td>\n",
       "    </tr>\n",
       "  </tbody>\n",
       "</table>\n",
       "</div>"
      ],
      "text/plain": [
       "      Unnamed: 0                                          Job Title  \\\n",
       "2248        2248  RQS - IHHA - 201900004460 -1q Data Security An...   \n",
       "2249        2249              Senior Data Analyst (Corporate Audit)   \n",
       "2250        2250  Technical Business Analyst (SQL, Data analytic...   \n",
       "2251        2251                Data Analyst 3, Customer Experience   \n",
       "2252        2252                        Senior Quality Data Analyst   \n",
       "\n",
       "                  Salary Estimate  \\\n",
       "2248  $78K-$104K (Glassdoor est.)   \n",
       "2249  $78K-$104K (Glassdoor est.)   \n",
       "2250  $78K-$104K (Glassdoor est.)   \n",
       "2251  $78K-$104K (Glassdoor est.)   \n",
       "2252  $78K-$104K (Glassdoor est.)   \n",
       "\n",
       "                                        Job Description  Rating  \\\n",
       "2248  Maintains systems to protect data from unautho...     2.5   \n",
       "2249  Position:\\nSenior Data Analyst (Corporate Audi...     2.9   \n",
       "2250  Title: Technical Business Analyst (SQL, Data a...    -1.0   \n",
       "2251  Summary\\n\\nResponsible for working cross-funct...     3.1   \n",
       "2252  You.\\n\\nYou bring your body, mind, heart and s...     3.4   \n",
       "\n",
       "                          Company Name        Location      Headquarters  \\\n",
       "2248                Avacend, Inc.\\n2.5      Denver, CO    Alpharetta, GA   \n",
       "2249            Arrow Electronics\\n2.9  Centennial, CO    Centennial, CO   \n",
       "2250                          Spiceorb      Denver, CO                -1   \n",
       "2251  Contingent Network Services\\n3.1  Centennial, CO  West Chester, OH   \n",
       "2252                   SCL Health\\n3.4  Broomfield, CO    Broomfield, CO   \n",
       "\n",
       "                      Size  Founded       Type of ownership  \\\n",
       "2248   51 to 200 employees       -1       Company - Private   \n",
       "2249      10000+ employees     1935        Company - Public   \n",
       "2250                    -1       -1                      -1   \n",
       "2251  201 to 500 employees     1984       Company - Private   \n",
       "2252      10000+ employees     1864  Nonprofit Organization   \n",
       "\n",
       "                                     Industry                  Sector  \\\n",
       "2248                   Staffing & Outsourcing       Business Services   \n",
       "2249                                Wholesale       Business Services   \n",
       "2250                                       -1                      -1   \n",
       "2251  Enterprise Software & Network Solutions  Information Technology   \n",
       "2252         Health Care Services & Hospitals             Health Care   \n",
       "\n",
       "                       Revenue  \\\n",
       "2248  Unknown / Non-Applicable   \n",
       "2249        $10+ billion (USD)   \n",
       "2250                        -1   \n",
       "2251  $25 to $50 million (USD)   \n",
       "2252    $2 to $5 billion (USD)   \n",
       "\n",
       "                                            Competitors Easy Apply  \n",
       "2248                                                 -1         -1  \n",
       "2249                     Avnet, Ingram Micro, Tech Data         -1  \n",
       "2250                                                 -1         -1  \n",
       "2251                                                 -1         -1  \n",
       "2252  Centura Health, HealthONE, Denver Health and H...         -1  "
      ]
     },
     "execution_count": 5,
     "metadata": {},
     "output_type": "execute_result"
    }
   ],
   "source": [
    "ds.tail()"
   ]
  },
  {
   "cell_type": "markdown",
   "id": "b310d576",
   "metadata": {},
   "source": [
    "##### for chhecking null values in the data set for each category"
   ]
  },
  {
   "cell_type": "code",
   "execution_count": 6,
   "id": "f52c7953",
   "metadata": {},
   "outputs": [
    {
     "data": {
      "text/plain": [
       "Unnamed: 0           0\n",
       "Job Title            0\n",
       "Salary Estimate      0\n",
       "Job Description      0\n",
       "Rating               0\n",
       "Company Name         1\n",
       "Location             0\n",
       "Headquarters         0\n",
       "Size                 0\n",
       "Founded              0\n",
       "Type of ownership    0\n",
       "Industry             0\n",
       "Sector               0\n",
       "Revenue              0\n",
       "Competitors          0\n",
       "Easy Apply           0\n",
       "dtype: int64"
      ]
     },
     "execution_count": 6,
     "metadata": {},
     "output_type": "execute_result"
    }
   ],
   "source": [
    "ds.isnull().sum()"
   ]
  },
  {
   "cell_type": "code",
   "execution_count": 7,
   "id": "3e7cc16c",
   "metadata": {},
   "outputs": [
    {
     "data": {
      "text/plain": [
       "Unnamed: 0           0\n",
       "Job Title            0\n",
       "Salary Estimate      0\n",
       "Job Description      0\n",
       "Rating               0\n",
       "Company Name         1\n",
       "Location             0\n",
       "Headquarters         0\n",
       "Size                 0\n",
       "Founded              0\n",
       "Type of ownership    0\n",
       "Industry             0\n",
       "Sector               0\n",
       "Revenue              0\n",
       "Competitors          0\n",
       "Easy Apply           0\n",
       "dtype: int64"
      ]
     },
     "execution_count": 7,
     "metadata": {},
     "output_type": "execute_result"
    }
   ],
   "source": [
    "ds.isnull().sum()"
   ]
  },
  {
   "cell_type": "markdown",
   "id": "c8a5af54",
   "metadata": {},
   "source": [
    "##### Drop any duplicated rows"
   ]
  },
  {
   "cell_type": "code",
   "execution_count": 8,
   "id": "325df2d8",
   "metadata": {},
   "outputs": [
    {
     "name": "stdout",
     "output_type": "stream",
     "text": [
      "<class 'pandas.core.frame.DataFrame'>\n",
      "Int64Index: 2253 entries, 0 to 2252\n",
      "Data columns (total 16 columns):\n",
      " #   Column             Non-Null Count  Dtype  \n",
      "---  ------             --------------  -----  \n",
      " 0   Unnamed: 0         2253 non-null   int64  \n",
      " 1   Job Title          2253 non-null   object \n",
      " 2   Salary Estimate    2253 non-null   object \n",
      " 3   Job Description    2253 non-null   object \n",
      " 4   Rating             2253 non-null   float64\n",
      " 5   Company Name       2252 non-null   object \n",
      " 6   Location           2253 non-null   object \n",
      " 7   Headquarters       2253 non-null   object \n",
      " 8   Size               2253 non-null   object \n",
      " 9   Founded            2253 non-null   int64  \n",
      " 10  Type of ownership  2253 non-null   object \n",
      " 11  Industry           2253 non-null   object \n",
      " 12  Sector             2253 non-null   object \n",
      " 13  Revenue            2253 non-null   object \n",
      " 14  Competitors        2253 non-null   object \n",
      " 15  Easy Apply         2253 non-null   object \n",
      "dtypes: float64(1), int64(2), object(13)\n",
      "memory usage: 299.2+ KB\n",
      "None\n"
     ]
    }
   ],
   "source": [
    "ds = ds.drop_duplicates()\n",
    "print(ds.info())"
   ]
  },
  {
   "cell_type": "markdown",
   "id": "c9bc664b",
   "metadata": {},
   "source": [
    "#### Looks like there were no duplicates, since we still have 2253 rows from before"
   ]
  },
  {
   "cell_type": "markdown",
   "id": "54753364",
   "metadata": {},
   "source": [
    "##### Sorting the data by 'Company Name'"
   ]
  },
  {
   "cell_type": "code",
   "execution_count": 9,
   "id": "038b5a58",
   "metadata": {},
   "outputs": [
    {
     "name": "stdout",
     "output_type": "stream",
     "text": [
      "      Unnamed: 0                   Job Title              Salary Estimate  \\\n",
      "1352        1352                Data Analyst   $30K-$53K (Glassdoor est.)   \n",
      "119          119            PBM Data Analyst   $51K-$87K (Glassdoor est.)   \n",
      "324          324         Senior Data Analyst   $42K-$74K (Glassdoor est.)   \n",
      "812          812     Data Governance Analyst   $42K-$76K (Glassdoor est.)   \n",
      "1074        1074  Data Analyst - Entry Level   $41K-$78K (Glassdoor est.)   \n",
      "...          ...                         ...                          ...   \n",
      "1934        1934                Data Analyst  $99K-$178K (Glassdoor est.)   \n",
      "2191        2191        Data Science Analyst   $49K-$91K (Glassdoor est.)   \n",
      "2207        2207                Data Analyst   $49K-$91K (Glassdoor est.)   \n",
      "685          685              Data Analyst I   $65K-$81K (Glassdoor est.)   \n",
      "1860        1860                Data Analyst   $53K-$99K (Glassdoor est.)   \n",
      "\n",
      "                                        Job Description  Rating  \\\n",
      "1352  Job Description\\nETL, SQL Queries, Data Modeli...    -1.0   \n",
      "119   Responsibilities:\\nProduce analyses and create...     3.2   \n",
      "324   Responsibilities\\nAssist the Associate Directo...     3.2   \n",
      "812   SUMMARY\\nThe Data Governance Analyst performs ...     5.0   \n",
      "1074  Looking to hire for a Data Analyst role with o...    -1.0   \n",
      "...                                                 ...     ...   \n",
      "1934  About thredUP\\n\\nthredUP is the world’s larges...     3.9   \n",
      "2191  Our Government and Large Commercial high-profi...     5.0   \n",
      "2207  We are looking for data analysts, data wrangle...     5.0   \n",
      "685   Full-time Data Analyst to conduct research and...    -1.0   \n",
      "1860  Kindred at Home, part of the Kindred at Home f...    -1.0   \n",
      "\n",
      "                            Company Name             Location  Headquarters  \\\n",
      "1352                                   1           Dallas, TX            -1   \n",
      "119                  1199SEIU Funds\\n3.2         New York, NY  New York, NY   \n",
      "324                  1199SEIU Funds\\n3.2         New York, NY  New York, NY   \n",
      "812                 1872 Consulting\\n5.0          Chicago, IL   Chicago, IL   \n",
      "1074       2000 east westmoreland st llc  King of Prussia, PA            -1   \n",
      "...                                  ...                  ...           ...   \n",
      "1934                        thredUP\\n3.9          Oakland, CA   Oakland, CA   \n",
      "2191            xentity corporation\\n5.0           Denver, CO  Lakewood, CO   \n",
      "2207            xentity corporation\\n5.0           Denver, CO  Lakewood, CO   \n",
      "685   zz-Tarzana Treatment Centers, Inc.       Northridge, CA            -1   \n",
      "1860                                 NaN      Mooresville, NC            -1   \n",
      "\n",
      "                        Size  Founded       Type of ownership  \\\n",
      "1352                      -1       -1                      -1   \n",
      "119   1001 to 5000 employees       -1  Nonprofit Organization   \n",
      "324   1001 to 5000 employees       -1  Nonprofit Organization   \n",
      "812        1 to 50 employees       -1       Company - Private   \n",
      "1074                      -1       -1                      -1   \n",
      "...                      ...      ...                     ...   \n",
      "1934  1001 to 5000 employees     2009       Company - Private   \n",
      "2191     51 to 200 employees     2001       Company - Private   \n",
      "2207     51 to 200 employees     2001       Company - Private   \n",
      "685                       -1       -1                      -1   \n",
      "1860                      -1       -1                      -1   \n",
      "\n",
      "                                 Industry                  Sector  \\\n",
      "1352                                   -1                      -1   \n",
      "119                    Insurance Carriers               Insurance   \n",
      "324                    Insurance Carriers               Insurance   \n",
      "812                                    -1                      -1   \n",
      "1074                                   -1                      -1   \n",
      "...                                   ...                     ...   \n",
      "1934  Department, Clothing, & Shoe Stores                  Retail   \n",
      "2191                          IT Services  Information Technology   \n",
      "2207                          IT Services  Information Technology   \n",
      "685                                    -1                      -1   \n",
      "1860                                   -1                      -1   \n",
      "\n",
      "                         Revenue Competitors Easy Apply  \n",
      "1352                          -1          -1         -1  \n",
      "119   $100 to $500 million (USD)          -1         -1  \n",
      "324   $100 to $500 million (USD)          -1         -1  \n",
      "812     Unknown / Non-Applicable          -1         -1  \n",
      "1074                          -1          -1         -1  \n",
      "...                          ...         ...        ...  \n",
      "1934    Unknown / Non-Applicable          -1         -1  \n",
      "2191     $5 to $10 million (USD)          -1         -1  \n",
      "2207     $5 to $10 million (USD)          -1         -1  \n",
      "685                           -1          -1         -1  \n",
      "1860                          -1          -1         -1  \n",
      "\n",
      "[2253 rows x 16 columns]\n"
     ]
    }
   ],
   "source": [
    "ds = ds.sort_values(\"Company Name\")\n",
    "print(ds)"
   ]
  },
  {
   "cell_type": "markdown",
   "id": "b87bc618",
   "metadata": {},
   "source": [
    "From glancing at the dataset above, we can see that many columns contain (-1.-1.0,'-1','1') values. So we want to replace those values with null values"
   ]
  },
  {
   "cell_type": "markdown",
   "id": "911dff17",
   "metadata": {},
   "source": [
    "##### Replacing columns containing (-1.-1.0,'-1','1') with NULL values"
   ]
  },
  {
   "cell_type": "code",
   "execution_count": 10,
   "id": "de91c3cb",
   "metadata": {},
   "outputs": [
    {
     "name": "stdout",
     "output_type": "stream",
     "text": [
      "      Unnamed: 0                   Job Title              Salary Estimate  \\\n",
      "1352        1352                Data Analyst   $30K-$53K (Glassdoor est.)   \n",
      "119          119            PBM Data Analyst   $51K-$87K (Glassdoor est.)   \n",
      "324          324         Senior Data Analyst   $42K-$74K (Glassdoor est.)   \n",
      "812          812     Data Governance Analyst   $42K-$76K (Glassdoor est.)   \n",
      "1074        1074  Data Analyst - Entry Level   $41K-$78K (Glassdoor est.)   \n",
      "...          ...                         ...                          ...   \n",
      "1934        1934                Data Analyst  $99K-$178K (Glassdoor est.)   \n",
      "2191        2191        Data Science Analyst   $49K-$91K (Glassdoor est.)   \n",
      "2207        2207                Data Analyst   $49K-$91K (Glassdoor est.)   \n",
      "685          685              Data Analyst I   $65K-$81K (Glassdoor est.)   \n",
      "1860        1860                Data Analyst   $53K-$99K (Glassdoor est.)   \n",
      "\n",
      "                                        Job Description  Rating  \\\n",
      "1352  Job Description\\nETL, SQL Queries, Data Modeli...     NaN   \n",
      "119   Responsibilities:\\nProduce analyses and create...     3.2   \n",
      "324   Responsibilities\\nAssist the Associate Directo...     3.2   \n",
      "812   SUMMARY\\nThe Data Governance Analyst performs ...     5.0   \n",
      "1074  Looking to hire for a Data Analyst role with o...     NaN   \n",
      "...                                                 ...     ...   \n",
      "1934  About thredUP\\n\\nthredUP is the world’s larges...     3.9   \n",
      "2191  Our Government and Large Commercial high-profi...     5.0   \n",
      "2207  We are looking for data analysts, data wrangle...     5.0   \n",
      "685   Full-time Data Analyst to conduct research and...     NaN   \n",
      "1860  Kindred at Home, part of the Kindred at Home f...     NaN   \n",
      "\n",
      "                            Company Name             Location  Headquarters  \\\n",
      "1352                                 NaN           Dallas, TX           NaN   \n",
      "119                  1199SEIU Funds\\n3.2         New York, NY  New York, NY   \n",
      "324                  1199SEIU Funds\\n3.2         New York, NY  New York, NY   \n",
      "812                 1872 Consulting\\n5.0          Chicago, IL   Chicago, IL   \n",
      "1074       2000 east westmoreland st llc  King of Prussia, PA           NaN   \n",
      "...                                  ...                  ...           ...   \n",
      "1934                        thredUP\\n3.9          Oakland, CA   Oakland, CA   \n",
      "2191            xentity corporation\\n5.0           Denver, CO  Lakewood, CO   \n",
      "2207            xentity corporation\\n5.0           Denver, CO  Lakewood, CO   \n",
      "685   zz-Tarzana Treatment Centers, Inc.       Northridge, CA           NaN   \n",
      "1860                                 NaN      Mooresville, NC           NaN   \n",
      "\n",
      "                        Size  Founded       Type of ownership  \\\n",
      "1352                     NaN      NaN                     NaN   \n",
      "119   1001 to 5000 employees      NaN  Nonprofit Organization   \n",
      "324   1001 to 5000 employees      NaN  Nonprofit Organization   \n",
      "812        1 to 50 employees      NaN       Company - Private   \n",
      "1074                     NaN      NaN                     NaN   \n",
      "...                      ...      ...                     ...   \n",
      "1934  1001 to 5000 employees   2009.0       Company - Private   \n",
      "2191     51 to 200 employees   2001.0       Company - Private   \n",
      "2207     51 to 200 employees   2001.0       Company - Private   \n",
      "685                      NaN      NaN                     NaN   \n",
      "1860                     NaN      NaN                     NaN   \n",
      "\n",
      "                                 Industry                  Sector  \\\n",
      "1352                                  NaN                     NaN   \n",
      "119                    Insurance Carriers               Insurance   \n",
      "324                    Insurance Carriers               Insurance   \n",
      "812                                   NaN                     NaN   \n",
      "1074                                  NaN                     NaN   \n",
      "...                                   ...                     ...   \n",
      "1934  Department, Clothing, & Shoe Stores                  Retail   \n",
      "2191                          IT Services  Information Technology   \n",
      "2207                          IT Services  Information Technology   \n",
      "685                                   NaN                     NaN   \n",
      "1860                                  NaN                     NaN   \n",
      "\n",
      "                         Revenue Competitors Easy Apply  \n",
      "1352                         NaN         NaN        NaN  \n",
      "119   $100 to $500 million (USD)         NaN        NaN  \n",
      "324   $100 to $500 million (USD)         NaN        NaN  \n",
      "812     Unknown / Non-Applicable         NaN        NaN  \n",
      "1074                         NaN         NaN        NaN  \n",
      "...                          ...         ...        ...  \n",
      "1934    Unknown / Non-Applicable         NaN        NaN  \n",
      "2191     $5 to $10 million (USD)         NaN        NaN  \n",
      "2207     $5 to $10 million (USD)         NaN        NaN  \n",
      "685                          NaN         NaN        NaN  \n",
      "1860                         NaN         NaN        NaN  \n",
      "\n",
      "[2253 rows x 16 columns]\n"
     ]
    }
   ],
   "source": [
    "ds.replace(-1, np.nan, inplace=True)\n",
    "ds.replace(-1.0, np.nan, inplace=True)\n",
    "ds.replace('-1', np.nan, inplace=True)\n",
    "ds.replace('1', np.nan, inplace=True)\n",
    "\n",
    "print(ds)"
   ]
  },
  {
   "cell_type": "markdown",
   "id": "905dca5d",
   "metadata": {},
   "source": [
    "##### Calculate how many NULL values in each column"
   ]
  },
  {
   "cell_type": "code",
   "execution_count": 11,
   "id": "f0de79de",
   "metadata": {},
   "outputs": [
    {
     "data": {
      "text/plain": [
       "Unnamed: 0              0\n",
       "Job Title               0\n",
       "Salary Estimate         1\n",
       "Job Description         0\n",
       "Rating                272\n",
       "Company Name            2\n",
       "Location                0\n",
       "Headquarters          172\n",
       "Size                  163\n",
       "Founded               660\n",
       "Type of ownership     163\n",
       "Industry              353\n",
       "Sector                353\n",
       "Revenue               163\n",
       "Competitors          1732\n",
       "Easy Apply           2173\n",
       "dtype: int64"
      ]
     },
     "execution_count": 11,
     "metadata": {},
     "output_type": "execute_result"
    }
   ],
   "source": [
    "ds.isnull().sum()"
   ]
  },
  {
   "cell_type": "markdown",
   "id": "28981bd4",
   "metadata": {},
   "source": [
    "##### Dropping unnecessary columns, that do not relate to the buisness task we were given"
   ]
  },
  {
   "cell_type": "code",
   "execution_count": 12,
   "id": "99128cd4",
   "metadata": {},
   "outputs": [
    {
     "name": "stdout",
     "output_type": "stream",
     "text": [
      "<class 'pandas.core.frame.DataFrame'>\n",
      "Int64Index: 2253 entries, 1352 to 1860\n",
      "Data columns (total 15 columns):\n",
      " #   Column             Non-Null Count  Dtype  \n",
      "---  ------             --------------  -----  \n",
      " 0   Job Title          2253 non-null   object \n",
      " 1   Salary Estimate    2252 non-null   object \n",
      " 2   Job Description    2253 non-null   object \n",
      " 3   Rating             1981 non-null   float64\n",
      " 4   Company Name       2251 non-null   object \n",
      " 5   Location           2253 non-null   object \n",
      " 6   Headquarters       2081 non-null   object \n",
      " 7   Size               2090 non-null   object \n",
      " 8   Founded            1593 non-null   float64\n",
      " 9   Type of ownership  2090 non-null   object \n",
      " 10  Industry           1900 non-null   object \n",
      " 11  Sector             1900 non-null   object \n",
      " 12  Revenue            2090 non-null   object \n",
      " 13  Competitors        521 non-null    object \n",
      " 14  Easy Apply         80 non-null     object \n",
      "dtypes: float64(2), object(13)\n",
      "memory usage: 281.6+ KB\n",
      "None\n"
     ]
    }
   ],
   "source": [
    "ds.drop(['Unnamed: 0'],axis=1,inplace=True)\n",
    "print(ds.info())"
   ]
  },
  {
   "cell_type": "markdown",
   "id": "0e618c50",
   "metadata": {},
   "source": [
    "##### Review a sample of the 'Salary Estimate' column"
   ]
  },
  {
   "cell_type": "code",
   "execution_count": 13,
   "id": "34011914",
   "metadata": {},
   "outputs": [
    {
     "name": "stdout",
     "output_type": "stream",
     "text": [
      "1867     $53K-$99K (Glassdoor est.)\n",
      "746      $60K-$66K (Glassdoor est.)\n",
      "962     $74K-$123K (Glassdoor est.)\n",
      "2202     $49K-$91K (Glassdoor est.)\n",
      "168      $43K-$76K (Glassdoor est.)\n",
      "1906    $57K-$104K (Glassdoor est.)\n",
      "1251    $76K-$122K (Glassdoor est.)\n",
      "1155    $64K-$113K (Glassdoor est.)\n",
      "1766     $28K-$52K (Glassdoor est.)\n",
      "1882     $40K-$74K (Glassdoor est.)\n",
      "Name: Salary Estimate, dtype: object\n"
     ]
    }
   ],
   "source": [
    "print(ds['Salary Estimate'].sample(10))"
   ]
  },
  {
   "cell_type": "markdown",
   "id": "36cf18f9",
   "metadata": {},
   "source": [
    "##### To be able to use the 'Salary Estimate' column to make job comparisons, we need to get rid of all the extra leading and trailing characters in the column. Along with that, changing the data type"
   ]
  },
  {
   "cell_type": "code",
   "execution_count": 14,
   "id": "aed2b859",
   "metadata": {},
   "outputs": [
    {
     "data": {
      "text/html": [
       "<div>\n",
       "<style scoped>\n",
       "    .dataframe tbody tr th:only-of-type {\n",
       "        vertical-align: middle;\n",
       "    }\n",
       "\n",
       "    .dataframe tbody tr th {\n",
       "        vertical-align: top;\n",
       "    }\n",
       "\n",
       "    .dataframe thead th {\n",
       "        text-align: right;\n",
       "    }\n",
       "</style>\n",
       "<table border=\"1\" class=\"dataframe\">\n",
       "  <thead>\n",
       "    <tr style=\"text-align: right;\">\n",
       "      <th></th>\n",
       "      <th>Salary Estimate</th>\n",
       "      <th>Salary Max</th>\n",
       "    </tr>\n",
       "  </thead>\n",
       "  <tbody>\n",
       "    <tr>\n",
       "      <th>1323</th>\n",
       "      <td>$24K-$48K (Glassdoor est.)</td>\n",
       "      <td>48.0</td>\n",
       "    </tr>\n",
       "    <tr>\n",
       "      <th>1763</th>\n",
       "      <td>$28K-$52K (Glassdoor est.)</td>\n",
       "      <td>52.0</td>\n",
       "    </tr>\n",
       "    <tr>\n",
       "      <th>2065</th>\n",
       "      <td>$47K-$74K (Glassdoor est.)</td>\n",
       "      <td>74.0</td>\n",
       "    </tr>\n",
       "    <tr>\n",
       "      <th>1141</th>\n",
       "      <td>$37K-$44K (Glassdoor est.)</td>\n",
       "      <td>44.0</td>\n",
       "    </tr>\n",
       "    <tr>\n",
       "      <th>664</th>\n",
       "      <td>$65K-$81K (Glassdoor est.)</td>\n",
       "      <td>81.0</td>\n",
       "    </tr>\n",
       "    <tr>\n",
       "      <th>2151</th>\n",
       "      <td>$32K-$56K (Glassdoor est.)</td>\n",
       "      <td>56.0</td>\n",
       "    </tr>\n",
       "    <tr>\n",
       "      <th>436</th>\n",
       "      <td>$26K-$47K (Glassdoor est.)</td>\n",
       "      <td>47.0</td>\n",
       "    </tr>\n",
       "    <tr>\n",
       "      <th>2136</th>\n",
       "      <td>$55K-$101K (Glassdoor est.)</td>\n",
       "      <td>101.0</td>\n",
       "    </tr>\n",
       "    <tr>\n",
       "      <th>380</th>\n",
       "      <td>$98K-$114K (Glassdoor est.)</td>\n",
       "      <td>114.0</td>\n",
       "    </tr>\n",
       "    <tr>\n",
       "      <th>1781</th>\n",
       "      <td>$28K-$52K (Glassdoor est.)</td>\n",
       "      <td>52.0</td>\n",
       "    </tr>\n",
       "  </tbody>\n",
       "</table>\n",
       "</div>"
      ],
      "text/plain": [
       "                  Salary Estimate  Salary Max\n",
       "1323   $24K-$48K (Glassdoor est.)        48.0\n",
       "1763   $28K-$52K (Glassdoor est.)        52.0\n",
       "2065   $47K-$74K (Glassdoor est.)        74.0\n",
       "1141   $37K-$44K (Glassdoor est.)        44.0\n",
       "664    $65K-$81K (Glassdoor est.)        81.0\n",
       "2151   $32K-$56K (Glassdoor est.)        56.0\n",
       "436    $26K-$47K (Glassdoor est.)        47.0\n",
       "2136  $55K-$101K (Glassdoor est.)       101.0\n",
       "380   $98K-$114K (Glassdoor est.)       114.0\n",
       "1781   $28K-$52K (Glassdoor est.)        52.0"
      ]
     },
     "execution_count": 14,
     "metadata": {},
     "output_type": "execute_result"
    }
   ],
   "source": [
    "ds['Salary Max'] = ds['Salary Estimate'].str[6:10].str.replace('K', '').str.lstrip('$').str.strip().astype('float')\n",
    "ds[['Salary Estimate', 'Salary Max']].sample(10)"
   ]
  },
  {
   "cell_type": "markdown",
   "id": "e8925d92",
   "metadata": {},
   "source": [
    "#### Retrieving the 'Salary Estimate' minimum and calculating the 'Salary Estimate' average"
   ]
  },
  {
   "cell_type": "code",
   "execution_count": 15,
   "id": "bdc05766",
   "metadata": {},
   "outputs": [
    {
     "data": {
      "text/html": [
       "<div>\n",
       "<style scoped>\n",
       "    .dataframe tbody tr th:only-of-type {\n",
       "        vertical-align: middle;\n",
       "    }\n",
       "\n",
       "    .dataframe tbody tr th {\n",
       "        vertical-align: top;\n",
       "    }\n",
       "\n",
       "    .dataframe thead th {\n",
       "        text-align: right;\n",
       "    }\n",
       "</style>\n",
       "<table border=\"1\" class=\"dataframe\">\n",
       "  <thead>\n",
       "    <tr style=\"text-align: right;\">\n",
       "      <th></th>\n",
       "      <th>Salary Estimate</th>\n",
       "      <th>Salary Max</th>\n",
       "      <th>Salary Min</th>\n",
       "      <th>Salary Avg</th>\n",
       "    </tr>\n",
       "  </thead>\n",
       "  <tbody>\n",
       "    <tr>\n",
       "      <th>1446</th>\n",
       "      <td>$48K-$88K (Glassdoor est.)</td>\n",
       "      <td>88.0</td>\n",
       "      <td>48.0</td>\n",
       "      <td>68.0</td>\n",
       "    </tr>\n",
       "    <tr>\n",
       "      <th>1964</th>\n",
       "      <td>$93K-$159K (Glassdoor est.)</td>\n",
       "      <td>159.0</td>\n",
       "      <td>93.0</td>\n",
       "      <td>126.0</td>\n",
       "    </tr>\n",
       "    <tr>\n",
       "      <th>390</th>\n",
       "      <td>$98K-$114K (Glassdoor est.)</td>\n",
       "      <td>114.0</td>\n",
       "      <td>98.0</td>\n",
       "      <td>106.0</td>\n",
       "    </tr>\n",
       "    <tr>\n",
       "      <th>900</th>\n",
       "      <td>$29K-$38K (Glassdoor est.)</td>\n",
       "      <td>38.0</td>\n",
       "      <td>29.0</td>\n",
       "      <td>33.5</td>\n",
       "    </tr>\n",
       "    <tr>\n",
       "      <th>117</th>\n",
       "      <td>$51K-$87K (Glassdoor est.)</td>\n",
       "      <td>87.0</td>\n",
       "      <td>51.0</td>\n",
       "      <td>69.0</td>\n",
       "    </tr>\n",
       "    <tr>\n",
       "      <th>535</th>\n",
       "      <td>$55K-$103K (Glassdoor est.)</td>\n",
       "      <td>103.0</td>\n",
       "      <td>55.0</td>\n",
       "      <td>79.0</td>\n",
       "    </tr>\n",
       "    <tr>\n",
       "      <th>611</th>\n",
       "      <td>$35K-$45K (Glassdoor est.)</td>\n",
       "      <td>45.0</td>\n",
       "      <td>35.0</td>\n",
       "      <td>40.0</td>\n",
       "    </tr>\n",
       "    <tr>\n",
       "      <th>332</th>\n",
       "      <td>$42K-$74K (Glassdoor est.)</td>\n",
       "      <td>74.0</td>\n",
       "      <td>42.0</td>\n",
       "      <td>58.0</td>\n",
       "    </tr>\n",
       "    <tr>\n",
       "      <th>2118</th>\n",
       "      <td>$35K-$67K (Glassdoor est.)</td>\n",
       "      <td>67.0</td>\n",
       "      <td>35.0</td>\n",
       "      <td>51.0</td>\n",
       "    </tr>\n",
       "    <tr>\n",
       "      <th>583</th>\n",
       "      <td>$57K-$103K (Glassdoor est.)</td>\n",
       "      <td>103.0</td>\n",
       "      <td>57.0</td>\n",
       "      <td>80.0</td>\n",
       "    </tr>\n",
       "  </tbody>\n",
       "</table>\n",
       "</div>"
      ],
      "text/plain": [
       "                  Salary Estimate  Salary Max  Salary Min  Salary Avg\n",
       "1446   $48K-$88K (Glassdoor est.)        88.0        48.0        68.0\n",
       "1964  $93K-$159K (Glassdoor est.)       159.0        93.0       126.0\n",
       "390   $98K-$114K (Glassdoor est.)       114.0        98.0       106.0\n",
       "900    $29K-$38K (Glassdoor est.)        38.0        29.0        33.5\n",
       "117    $51K-$87K (Glassdoor est.)        87.0        51.0        69.0\n",
       "535   $55K-$103K (Glassdoor est.)       103.0        55.0        79.0\n",
       "611    $35K-$45K (Glassdoor est.)        45.0        35.0        40.0\n",
       "332    $42K-$74K (Glassdoor est.)        74.0        42.0        58.0\n",
       "2118   $35K-$67K (Glassdoor est.)        67.0        35.0        51.0\n",
       "583   $57K-$103K (Glassdoor est.)       103.0        57.0        80.0"
      ]
     },
     "execution_count": 15,
     "metadata": {},
     "output_type": "execute_result"
    }
   ],
   "source": [
    "# Now lets find the 'Salary Estimate' minimum and average\n",
    "\n",
    "ds['Salary Min'] = ds['Salary Estimate'].str.lstrip('$').str[:3].str.replace('K','').str.strip().astype('float')\n",
    "ds['Salary Avg'] = (ds['Salary Max'] + ds['Salary Min'])/2\n",
    "ds[['Salary Estimate', 'Salary Max','Salary Min','Salary Avg']].sample(10)"
   ]
  },
  {
   "cell_type": "markdown",
   "id": "ee540dba",
   "metadata": {},
   "source": [
    "##### Analyze the 'Job Description' column"
   ]
  },
  {
   "cell_type": "code",
   "execution_count": 16,
   "id": "3d006672",
   "metadata": {},
   "outputs": [
    {
     "data": {
      "text/plain": [
       "\"ASU Job Title\\nAZ Transfer Sys Anlst\\n\\n05-Jun-2020\\n\\nDepartment Name\\nHR Office of Human Resources\\n\\nCampus/Location\\nOff-Campus: Phoenix\\n\\nJob Description\\n\\nAZTransfer is seeking a strong candidate who will support and prepare data analysis and reporting for business decision-making, strategic planning, and process improvement using various methods and techniques within the ASSIST database. The Arizona State System for Information on Student Transfer (ASSIST) is a relational database containing enrollment and degree information on students attending Arizona’s public universities and community college districts.\\n\\nRequisition ID\\n60968BR\\n\\nWorking Environment\\nWork is performed in a standard office environment.\\nIn state travel may be required.\\n\\nBackground Check Statement\\nASU conducts pre-employment screening for all positions which includes a criminal background check, verification of work history, academic credentials, licenses, and certifications. Employment is contingent upon successful passing of the background check.\\n\\nMinimum Qualifications\\n\\nN/A\\n\\nDepartment Statement\\nAZTransfer operates the Arizona Transfer System, the statewide articulation and transfer system, that includes the Articulation Task Force network that is the foundation of the Arizona Transfer System, and the tools and resources to ensure faculty, staff, and students have access to transfer information from anywhere in the state. The components of the system work together to help students plan a seamless transfer without loss of academic credit. Additional information can be found at aztransfer.com.\\n\\nCategory\\nADM\\n\\nVP Code\\nEVP BUSINESS & FINANCE\\n\\nScope of Search\\nOpen\\n\\nDesired Qualifications\\nEvidence of a Bachelor’s degree in Statistics, Computer Information Systems, Business Information or a related field and three (3) years of related administrative/data analysis experience, OR, any equivalent combination of experience and/or education from which comparable knowledge, skills and abilities have been achieved.\\nExperience working with SQL relational databases, preferably Sybase or MySQL.\\nExperience in collecting, organizing, synthesizing and analyzing data; summarizing findings; developing conclusions and recommendations.\\nEvidence of effective written and verbal communication skills.\\nExperience in using database query languages like SWL, and software such as Aqua Data Studio and Hyperion Intelligence/Brio.\\nDemonstrated knowledge of data collection and analysis methods, techniques and reporting strategies.\\nDemonstrated knowledge of data management and information technologies.\\nExperience in quantitative data analysis and interpretation.\\nExperience in visual/graphic display of data.\\nExperience managing workload priorities and coordinating multiple projects for self.\\nExperience in accurately and reliably interpreting data for determining appropriate action.\\nAbility to work collaboratively with internal and external stakeholders and build relationships with new and existing partners.\\nSkill in using education vocabulary, tact, discretion, and judgement.\\nExperience and familiarity with colleges and universities is desired.\\nClose Date\\nOpen until filled\\n\\nGrant Funded Position\\nThis is not a grant funded position and is not contingent on future grant funding.\\n\\nASU Statement\\n\\nArizona State University is a new model for American higher education, an unprecedented combination of academic excellence, entrepreneurial energy and broad access. This New American University is a single, unified institution comprising four differentiated campuses positively impacting the economic, social, cultural and environmental health of the communities it serves. Its research is inspired by real world application blurring the boundaries that traditionally separate academic disciplines. ASU serves more than 80,000 students in metropolitan Phoenix, Arizona, the nation's fifth largest city. ASU champions intellectual and cultural diversity, and welcomes students from all fifty states and more than one hundred nations across the globe.\\n\\nASU is a tobacco-free university. For details visit www.asu.edu/tobaccofree\\n\\nAmeriCorps, Peace Corps, and other national service alumni are encouraged to apply.\\n\\nArizona State University is a VEVRAA Federal Contractor and an Equal Opportunity/Affirmative Action Employer. All qualified applicants will be considered without regard to race, color, sex, religion, national origin, disability, protected veteran status, or any other basis protected by law.\\n\\nNotice of Availability of the ASU Annual Security and Fire Safety Report\\nIn compliance with federal law, ASU prepares an annual report on campus security and fire safety programs and resources. ASU’s Annual Security and Fire Safety Report is available online at https://www.asu.edu/police/PDFs/ASU-Clery-Report.pdf. You may request a hard copy of the report by contacting the ASU Police Department at 480-965-3456.\\n\\nRelocation Assistance – For information about schools, housing child resources, neighborhoods, hospitals, community events, and taxes, visit https://cfo.asu.edu/relocation-services.\\n\\nFull-Time/Part-Time\\nFull-Time\\n\\nEssential Duties\\n\\nUnder the direction of the AZTransfer Executive Director and the ASSIST Steering Committee, the Data Programmer/Analyst will:\\nCollect, analyze and interpret institutional data for research projects related to transfer students, academic achievement results, and student tracking.\\nDevelop procedures for collecting, analyzing, and reporting data relative to current and projected student enrollments.\\nProduce and disseminate reports to stakeholders.\\nDevelop and maintain databases using data warehousing.\\nSecurely collect, cleanse, standardize, transform and store data from various sources ensuring data integrity.\\nProvide information and/or advice on using the statewide database.\\nProvide research and research design assistance to committees, administrators and faculty.\\nMaintain liaison with educational institutions whose research involves or affects the AZTransfer project.\\nEstablish policies and procedures for research projects.\\nParticipate in the planning and organization of AZTransfer conferences related to the research function.\\nMake oral and written presentations on research.\\nPrepare or coordinate preparation of reports; analyze and interpret statistics, financial data, and management planning data for developing long-range plans.\\nDevelop and maintain databases used to generate information for management decision making.\\nAssist in the development of measurements and metrics for data analysis used for business decision-making, planning, and process improvement.\\nEmployment Verification Statement\\nASU conducts pre-employment screening which may include verification of work history, academic credentials, licenses, and certifications.\\n\\nFingerprint Check Statement\\nThis position is considered safety/security sensitive and will include a fingerprint check. Employment is contingent upon successful passing of the fingerprint check.\\n\\nSalary Range\\n$70,000 - $75,000 per year; DOE\\n\\nInstructions to Apply\\n\\nAZTransfer operates the Arizona Transfer System, the statewide articulation and transfer system, that includes the Articulation Task Force network that is the foundation of the Arizona Transfer System, and the tools and resources to ensure faculty, staff, and students have access to transfer information from anywhere in the state. The components of the system work together to help students plan a seamless transfer without loss of academic credit. Additional information can be found at aztransfer.com.\\n\\nApplicants should send cover letter, resume and the names and telephone numbers of three professional references who are able to speak to the qualifications listed above to: hr@azregents.edu or the Arizona Board of Regents, 2700 North Central Avenue, Suite 400, Phoenix, Arizona 85004. The review of applicants will begin on June 30, 2020 and posting will remain open until filled.\\n\\nResume should clearly illustrate how prior knowledge and experience meets the Minimum and Desired qualifications of this position.\\n\\nThe Arizona Board of Regents does not pay for travel expenses associated with interviews, unless otherwise indicated.\\n\\nJob Title\\nData Programmer/Analyst\\n\\nJob Family\\nInformation Technology\""
      ]
     },
     "execution_count": 16,
     "metadata": {},
     "output_type": "execute_result"
    }
   ],
   "source": [
    " ds['Job Description'][1000]"
   ]
  },
  {
   "cell_type": "markdown",
   "id": "58ab6e75",
   "metadata": {},
   "source": [
    "Let's break it down and see if they contain particular skill keywords"
   ]
  },
  {
   "cell_type": "markdown",
   "id": "b58d8643",
   "metadata": {},
   "source": [
    "##### Check to see particular skill keywords (Excel, SQL, Python, Tableau)"
   ]
  },
  {
   "cell_type": "code",
   "execution_count": 17,
   "id": "31b3ee44",
   "metadata": {},
   "outputs": [
    {
     "data": {
      "text/plain": [
       "Job Title            2253\n",
       "Salary Estimate      2252\n",
       "Job Description      2253\n",
       "Rating               1981\n",
       "Company Name         2251\n",
       "Location             2253\n",
       "Headquarters         2081\n",
       "Size                 2090\n",
       "Founded              1593\n",
       "Type of ownership    2090\n",
       "Industry             1900\n",
       "Sector               1900\n",
       "Revenue              2090\n",
       "Competitors           521\n",
       "Easy Apply             80\n",
       "Salary Max           2252\n",
       "Salary Min           2252\n",
       "Salary Avg           2252\n",
       "dtype: int64"
      ]
     },
     "execution_count": 17,
     "metadata": {},
     "output_type": "execute_result"
    }
   ],
   "source": [
    "x = ds.count()\n",
    "x"
   ]
  },
  {
   "cell_type": "code",
   "execution_count": 18,
   "id": "9b195153",
   "metadata": {},
   "outputs": [
    {
     "name": "stdout",
     "output_type": "stream",
     "text": [
      "True     1354\n",
      "False     899\n",
      "Name: Excel, dtype: int64\n"
     ]
    }
   ],
   "source": [
    "ds['Excel']=ds['Job Description'].str.contains('Excel', na=False, case=False)\n",
    "print(ds['Excel'].value_counts(dropna=False))\n"
   ]
  },
  {
   "cell_type": "code",
   "execution_count": 19,
   "id": "419b4180",
   "metadata": {},
   "outputs": [
    {
     "name": "stdout",
     "output_type": "stream",
     "text": [
      "True     1389\n",
      "False     864\n",
      "Name: SQL, dtype: int64\n"
     ]
    }
   ],
   "source": [
    "ds['SQL']=ds['Job Description'].str.contains('SQL', na=False, case=False)\n",
    "print(ds['SQL'].value_counts(dropna=False))"
   ]
  },
  {
   "cell_type": "code",
   "execution_count": 20,
   "id": "a362ffa5",
   "metadata": {},
   "outputs": [
    {
     "name": "stdout",
     "output_type": "stream",
     "text": [
      "False    1617\n",
      "True      636\n",
      "Name: Python, dtype: int64\n"
     ]
    }
   ],
   "source": [
    "ds['Python']=ds['Job Description'].str.contains('Python', na=False, case=False)\n",
    "print(ds['Python'].value_counts(dropna=False))"
   ]
  },
  {
   "cell_type": "code",
   "execution_count": 21,
   "id": "c964220d",
   "metadata": {},
   "outputs": [
    {
     "name": "stdout",
     "output_type": "stream",
     "text": [
      "False    1634\n",
      "True      619\n",
      "Name: Tableau, dtype: int64\n"
     ]
    }
   ],
   "source": [
    "ds['Tableau']=ds['Job Description'].str.contains('Tableau', na=False, case=False)\n",
    "print(ds['Tableau'].value_counts(dropna=False))"
   ]
  },
  {
   "cell_type": "code",
   "execution_count": 72,
   "id": "5150552d",
   "metadata": {},
   "outputs": [
    {
     "name": "stdout",
     "output_type": "stream",
     "text": [
      "False    2128\n",
      "True      125\n",
      "Name: Javascript, dtype: int64\n"
     ]
    }
   ],
   "source": [
    "ds['Javascript']=ds['Job Description'].str.contains('Javascript', na=False, case=False)\n",
    "print(ds['Javascript'].value_counts(dropna=False))"
   ]
  },
  {
   "cell_type": "code",
   "execution_count": 107,
   "id": "d3921db1",
   "metadata": {},
   "outputs": [
    {
     "name": "stdout",
     "output_type": "stream",
     "text": [
      "False    2171\n",
      "True       82\n",
      "Name: MySQL, dtype: int64\n"
     ]
    }
   ],
   "source": [
    "ds['MySQL']=ds['Job Description'].str.contains('MySQL', na=False, case=False)\n",
    "print(ds['MySQL'].value_counts(dropna=False))"
   ]
  },
  {
   "cell_type": "code",
   "execution_count": 108,
   "id": "8b17b3bc",
   "metadata": {},
   "outputs": [
    {
     "name": "stdout",
     "output_type": "stream",
     "text": [
      "False    2073\n",
      "True      180\n",
      "Name: Power BI, dtype: int64\n"
     ]
    }
   ],
   "source": [
    "ds['Power BI']=ds['Job Description'].str.contains('Power BI', na=False, case=False)\n",
    "print(ds['Power BI'].value_counts(dropna=False))"
   ]
  },
  {
   "cell_type": "code",
   "execution_count": 111,
   "id": "ae2e2e6c",
   "metadata": {},
   "outputs": [
    {
     "name": "stdout",
     "output_type": "stream",
     "text": [
      "False    1981\n",
      "True      272\n",
      "Name: Word, dtype: int64\n"
     ]
    }
   ],
   "source": [
    "ds['Word']=ds['Job Description'].str.contains('Word', na=False, case=False)\n",
    "print(ds['Word'].value_counts(dropna=False))"
   ]
  },
  {
   "cell_type": "code",
   "execution_count": 112,
   "id": "eec8ac90",
   "metadata": {},
   "outputs": [
    {
     "name": "stdout",
     "output_type": "stream",
     "text": [
      "False    2059\n",
      "True      194\n",
      "Name: PowerPoint, dtype: int64\n"
     ]
    }
   ],
   "source": [
    "ds['PowerPoint']=ds['Job Description'].str.contains('PowerPoint', na=False, case=False)\n",
    "print(ds['PowerPoint'].value_counts(dropna=False))"
   ]
  },
  {
   "cell_type": "code",
   "execution_count": 148,
   "id": "2db27f9a",
   "metadata": {},
   "outputs": [
    {
     "name": "stdout",
     "output_type": "stream",
     "text": [
      "False    1842\n",
      "True      411\n",
      "Name: SAS, dtype: int64\n"
     ]
    }
   ],
   "source": [
    "ds['SAS']=ds['Job Description'].str.contains('SAS', na=False, case=False)\n",
    "print(ds['SAS'].value_counts(dropna=False))"
   ]
  },
  {
   "cell_type": "code",
   "execution_count": 149,
   "id": "f9abd582",
   "metadata": {},
   "outputs": [
    {
     "name": "stdout",
     "output_type": "stream",
     "text": [
      "True     2252\n",
      "False       1\n",
      "Name: R, dtype: int64\n"
     ]
    }
   ],
   "source": [
    "ds['R']=ds['Job Description'].str.contains('R', na=False, case=False)\n",
    "print(ds['R'].value_counts(dropna=False))"
   ]
  },
  {
   "cell_type": "code",
   "execution_count": 150,
   "id": "cfd6c8e0",
   "metadata": {},
   "outputs": [
    {
     "name": "stdout",
     "output_type": "stream",
     "text": [
      "False    1978\n",
      "True      275\n",
      "Name: AWS, dtype: int64\n"
     ]
    }
   ],
   "source": [
    "ds['AWS']=ds['Job Description'].str.contains('AWS', na=False, case=False)\n",
    "print(ds['AWS'].value_counts(dropna=False))"
   ]
  },
  {
   "cell_type": "code",
   "execution_count": 151,
   "id": "6bea2fa1",
   "metadata": {},
   "outputs": [
    {
     "name": "stdout",
     "output_type": "stream",
     "text": [
      "True     1354\n",
      "False     899\n",
      "Name: Excel, dtype: int64\n"
     ]
    }
   ],
   "source": [
    "ds['Excel']=ds['Job Description'].str.contains('Excel', na=False, case=False)\n",
    "print(ds['Excel'].value_counts(dropna=False))"
   ]
  },
  {
   "cell_type": "code",
   "execution_count": 152,
   "id": "a96b3db3",
   "metadata": {},
   "outputs": [],
   "source": [
    "ds['Excel']=ds['Job Description'].str.contains('Excel', na=False, case=False)\n",
    "\n",
    "ds['SQL']=ds['Job Description'].str.contains('SQL', na=False, case=False)\n",
    "ds['Python']=ds['Job Description'].str.contains('Python', na=False, case=False)\n",
    "ds['Tableau']=ds['Job Description'].str.contains('Tableau', na=False, case=False)"
   ]
  },
  {
   "cell_type": "code",
   "execution_count": 153,
   "id": "073e3f52",
   "metadata": {},
   "outputs": [
    {
     "data": {
      "text/html": [
       "<div>\n",
       "<style scoped>\n",
       "    .dataframe tbody tr th:only-of-type {\n",
       "        vertical-align: middle;\n",
       "    }\n",
       "\n",
       "    .dataframe tbody tr th {\n",
       "        vertical-align: top;\n",
       "    }\n",
       "\n",
       "    .dataframe thead th {\n",
       "        text-align: right;\n",
       "    }\n",
       "</style>\n",
       "<table border=\"1\" class=\"dataframe\">\n",
       "  <thead>\n",
       "    <tr style=\"text-align: right;\">\n",
       "      <th></th>\n",
       "      <th>Python</th>\n",
       "      <th>Excel</th>\n",
       "      <th>SQL</th>\n",
       "      <th>Tableau</th>\n",
       "      <th>Javascript</th>\n",
       "      <th>MySQL</th>\n",
       "      <th>Power BI</th>\n",
       "      <th>PowerPoint</th>\n",
       "      <th>Word</th>\n",
       "      <th>SAS</th>\n",
       "      <th>R</th>\n",
       "      <th>AWS</th>\n",
       "      <th>Excel</th>\n",
       "    </tr>\n",
       "  </thead>\n",
       "  <tbody>\n",
       "    <tr>\n",
       "      <th>1005</th>\n",
       "      <td>True</td>\n",
       "      <td>False</td>\n",
       "      <td>True</td>\n",
       "      <td>False</td>\n",
       "      <td>False</td>\n",
       "      <td>False</td>\n",
       "      <td>True</td>\n",
       "      <td>False</td>\n",
       "      <td>False</td>\n",
       "      <td>True</td>\n",
       "      <td>True</td>\n",
       "      <td>False</td>\n",
       "      <td>False</td>\n",
       "    </tr>\n",
       "    <tr>\n",
       "      <th>259</th>\n",
       "      <td>True</td>\n",
       "      <td>True</td>\n",
       "      <td>True</td>\n",
       "      <td>True</td>\n",
       "      <td>False</td>\n",
       "      <td>False</td>\n",
       "      <td>False</td>\n",
       "      <td>False</td>\n",
       "      <td>False</td>\n",
       "      <td>False</td>\n",
       "      <td>True</td>\n",
       "      <td>True</td>\n",
       "      <td>True</td>\n",
       "    </tr>\n",
       "    <tr>\n",
       "      <th>146</th>\n",
       "      <td>False</td>\n",
       "      <td>False</td>\n",
       "      <td>False</td>\n",
       "      <td>False</td>\n",
       "      <td>False</td>\n",
       "      <td>False</td>\n",
       "      <td>False</td>\n",
       "      <td>False</td>\n",
       "      <td>False</td>\n",
       "      <td>False</td>\n",
       "      <td>True</td>\n",
       "      <td>False</td>\n",
       "      <td>False</td>\n",
       "    </tr>\n",
       "    <tr>\n",
       "      <th>74</th>\n",
       "      <td>True</td>\n",
       "      <td>True</td>\n",
       "      <td>True</td>\n",
       "      <td>False</td>\n",
       "      <td>False</td>\n",
       "      <td>False</td>\n",
       "      <td>False</td>\n",
       "      <td>False</td>\n",
       "      <td>False</td>\n",
       "      <td>False</td>\n",
       "      <td>True</td>\n",
       "      <td>False</td>\n",
       "      <td>True</td>\n",
       "    </tr>\n",
       "    <tr>\n",
       "      <th>192</th>\n",
       "      <td>True</td>\n",
       "      <td>True</td>\n",
       "      <td>True</td>\n",
       "      <td>True</td>\n",
       "      <td>False</td>\n",
       "      <td>False</td>\n",
       "      <td>False</td>\n",
       "      <td>False</td>\n",
       "      <td>False</td>\n",
       "      <td>False</td>\n",
       "      <td>True</td>\n",
       "      <td>False</td>\n",
       "      <td>True</td>\n",
       "    </tr>\n",
       "  </tbody>\n",
       "</table>\n",
       "</div>"
      ],
      "text/plain": [
       "      Python  Excel    SQL  Tableau  Javascript  MySQL  Power BI  PowerPoint  \\\n",
       "1005    True  False   True    False       False  False      True       False   \n",
       "259     True   True   True     True       False  False     False       False   \n",
       "146    False  False  False    False       False  False     False       False   \n",
       "74      True   True   True    False       False  False     False       False   \n",
       "192     True   True   True     True       False  False     False       False   \n",
       "\n",
       "       Word    SAS     R    AWS  Excel  \n",
       "1005  False   True  True  False  False  \n",
       "259   False  False  True   True   True  \n",
       "146   False  False  True  False  False  \n",
       "74    False  False  True  False   True  \n",
       "192   False  False  True  False   True  "
      ]
     },
     "execution_count": 153,
     "metadata": {},
     "output_type": "execute_result"
    }
   ],
   "source": [
    "ds[['Python', 'Excel', 'SQL','Tableau','Javascript','MySQL','Power BI','PowerPoint','Word','SAS','R','AWS','Excel']].sample(5)"
   ]
  },
  {
   "cell_type": "markdown",
   "id": "c937eed8",
   "metadata": {},
   "source": [
    "## Analyze/Count the diffrent 'Job Titles'"
   ]
  },
  {
   "cell_type": "code",
   "execution_count": 154,
   "id": "8dd61305",
   "metadata": {},
   "outputs": [
    {
     "data": {
      "text/plain": [
       "Sr. Data Analyst, Sales Compensation                                       1\n",
       "Business Intelligence Data Modeler/Analyst                                 1\n",
       "Digital S/W Eng Lead Analyst (Big data with SAS and PySpark background)    1\n",
       "XYZ Data Analyst                                                           1\n",
       "Encounter Data Analyst                                                     1\n",
       "Operations data analyst                                                    1\n",
       "Data and User Acceptance Testing Analyst                                   1\n",
       "SQL/SAS Data Analyst                                                       1\n",
       "Analyst, Data Operations                                                   1\n",
       "Lead Generation Data Analyst                                               1\n",
       "People Operations & Data Analyst                                           1\n",
       "Sr. Data Analyst, Business Intelligence                                    1\n",
       "Data Analyst (Games)                                                       1\n",
       "Alerts Business/Data Analyst                                               1\n",
       "Data Analyst- Growth Operations                                            1\n",
       "SENIOR DATA ANALYST                                                        1\n",
       "AI Insights Data Analyst                                                   1\n",
       "Data/Systems Analyst                                                       1\n",
       "Analyst: Data Analytics                                                    1\n",
       "Risk Data Analyst                                                          1\n",
       "Business Analyst - Data Governance                                         1\n",
       "(Data Analyst) BA/BSA                                                      1\n",
       "Contract Analyst - Enterprise Market Data                                  1\n",
       "Data Analyst II, QA                                                        1\n",
       "Analyst, Data                                                              1\n",
       "Data/Business Analyst                                                      1\n",
       "Data Analyst (Junior)                                                      1\n",
       "Sr. Analyst, Data                                                          1\n",
       "Practice Analyst Data                                                      1\n",
       "Data Analyst, Data Activation                                              1\n",
       "Name: Job Title, dtype: int64"
      ]
     },
     "execution_count": 154,
     "metadata": {},
     "output_type": "execute_result"
    }
   ],
   "source": [
    "ds['Job Title'].value_counts(dropna=False).tail(30)"
   ]
  },
  {
   "cell_type": "markdown",
   "id": "17498598",
   "metadata": {},
   "source": [
    "Many of the job titles are the same but written differently. So, we will replace all titles (Sr Data Analyst and Senior Data Analyst) into Sr. Data Analyst and (Jr Data Analyst, Junior Data Analyst, Entry Level Data Analyst and Entry-Level Data Analyst) into Jr. Data Analyst"
   ]
  },
  {
   "cell_type": "code",
   "execution_count": 155,
   "id": "68eacee6",
   "metadata": {},
   "outputs": [
    {
     "data": {
      "text/plain": [
       "Data Analyst                                                                        405\n",
       "Sr. Data Analyst                                                                    121\n",
       "Jr. Data Analyst                                                                     51\n",
       "Business Data Analyst                                                                28\n",
       "Data Analyst II                                                                      17\n",
       "Data Quality Analyst                                                                 17\n",
       "Data Governance Analyst                                                              16\n",
       "Lead Data Analyst                                                                    15\n",
       "Data Reporting Analyst                                                               13\n",
       "Financial Data Analyst                                                               12\n",
       "Data Analyst III                                                                     11\n",
       "Data Analyst I                                                                       11\n",
       "Marketing Data Analyst                                                                9\n",
       "Data Warehouse Analyst                                                                8\n",
       "Data Management Analyst                                                               8\n",
       "Data Science Analyst                                                                  7\n",
       "Technical Data Analyst                                                                7\n",
       "SQL Data Analyst                                                                      7\n",
       "Clinical Data Analyst                                                                 6\n",
       "Research Data Analyst                                                                 6\n",
       "Data Security Analyst                                                                 6\n",
       "Healthcare Data Analyst                                                               6\n",
       "Data Analyst III (Healthcare Analytics)                                               5\n",
       "NY Healthcare Data/Reporting Analyst                                                  5\n",
       "Product Data Analyst                                                                  5\n",
       "Senior Healthcare Data Analyst                                                        5\n",
       "Senior Data Quality Analyst                                                           4\n",
       "Data Base Programmer/Analyst                                                          4\n",
       "Data Analyst, Data & Analytics (Advanced Analytics) Manager (Multiple Positions)      4\n",
       "Master Data Analyst                                                                   4\n",
       "Healthcare Data/Reporting Analyst                                                     4\n",
       "Data Analyst Intern                                                                   4\n",
       "Senior Contract Data Analyst                                                          4\n",
       "Quality Data Analyst                                                                  4\n",
       "Operations Data Analyst                                                               4\n",
       "TX Healthcare Data/Reporting Analyst                                                  4\n",
       "Business/Data Analyst                                                                 4\n",
       "Data Analyst IV                                                                       3\n",
       "HR Data Analyst                                                                       3\n",
       "Data Collection Analyst                                                               3\n",
       "Radar Telemetry Data Analyst                                                          3\n",
       "Data Systems Analyst                                                                  3\n",
       "Data analyst                                                                          3\n",
       "Sr. Data Governance Analyst                                                           3\n",
       "Data Analyst- Remote                                                                  3\n",
       "Senior Business Data Analyst                                                          3\n",
       "SAS Data Analyst                                                                      3\n",
       "Data Integrity Analyst                                                                3\n",
       "Data Business Analyst                                                                 3\n",
       "Data Warehouse Analyst III                                                            3\n",
       "Name: Job Title, dtype: int64"
      ]
     },
     "execution_count": 155,
     "metadata": {},
     "output_type": "execute_result"
    }
   ],
   "source": [
    "ds['Job Title']=ds['Job Title'].str.replace('Sr Data Analyst','Sr. Data Analyst')\n",
    "ds['Job Title']=ds['Job Title'].str.replace('Senior Data Analyst','Sr. Data Analyst')\n",
    "ds['Job Title']=ds['Job Title'].str.replace('Data Analyst Senior','Sr. Data Analyst')\n",
    "ds['Job Title']=ds['Job Title'].str.replace('Junior Data Analyst','Jr. Data Analyst')\n",
    "ds['Job Title']=ds['Job Title'].str.replace('Jr Data Analyst','Jr. Data Analyst')\n",
    "ds['Job Title']=ds['Job Title'].str.replace('Data Analyst Junior','Jr. Data Analyst')\n",
    "ds['Job Title']=ds['Job Title'].str.replace('Entry Level Data Analyst','Jr. Data Analyst')\n",
    "ds['Job Title']=ds['Job Title'].str.replace('Entry-Level Data Analyst','Jr. Data Analyst')\n",
    "ds['Job Title'].value_counts(dropna=False).head(50)"
   ]
  },
  {
   "cell_type": "markdown",
   "id": "00e2e3a2",
   "metadata": {},
   "source": [
    "#### Count how many unique 'Company Names' there are"
   ]
  },
  {
   "cell_type": "code",
   "execution_count": 156,
   "id": "0bbbda57",
   "metadata": {},
   "outputs": [
    {
     "name": "stdout",
     "output_type": "stream",
     "text": [
      "1501\n"
     ]
    }
   ],
   "source": [
    "n= len(pd.unique(ds['Company Name']))\n",
    "print(n)"
   ]
  },
  {
   "cell_type": "markdown",
   "id": "7066e77a",
   "metadata": {},
   "source": [
    "#### Check to see how many 'Company Names' are NULL"
   ]
  },
  {
   "cell_type": "code",
   "execution_count": 157,
   "id": "60281471",
   "metadata": {},
   "outputs": [
    {
     "data": {
      "text/plain": [
       "2"
      ]
     },
     "execution_count": 157,
     "metadata": {},
     "output_type": "execute_result"
    }
   ],
   "source": [
    "ds['Company Name'].isnull().sum()"
   ]
  },
  {
   "cell_type": "code",
   "execution_count": 158,
   "id": "54e0f729",
   "metadata": {},
   "outputs": [
    {
     "data": {
      "text/html": [
       "<div>\n",
       "<style scoped>\n",
       "    .dataframe tbody tr th:only-of-type {\n",
       "        vertical-align: middle;\n",
       "    }\n",
       "\n",
       "    .dataframe tbody tr th {\n",
       "        vertical-align: top;\n",
       "    }\n",
       "\n",
       "    .dataframe thead th {\n",
       "        text-align: right;\n",
       "    }\n",
       "</style>\n",
       "<table border=\"1\" class=\"dataframe\">\n",
       "  <thead>\n",
       "    <tr style=\"text-align: right;\">\n",
       "      <th></th>\n",
       "      <th>Company Name</th>\n",
       "      <th>Rating</th>\n",
       "    </tr>\n",
       "  </thead>\n",
       "  <tbody>\n",
       "    <tr>\n",
       "      <th>71</th>\n",
       "      <td>impakt Advisors</td>\n",
       "      <td>NaN</td>\n",
       "    </tr>\n",
       "    <tr>\n",
       "      <th>672</th>\n",
       "      <td>Revolve</td>\n",
       "      <td>3.3</td>\n",
       "    </tr>\n",
       "    <tr>\n",
       "      <th>1009</th>\n",
       "      <td>Sanford Federal</td>\n",
       "      <td>NaN</td>\n",
       "    </tr>\n",
       "    <tr>\n",
       "      <th>1006</th>\n",
       "      <td>Tech Finders</td>\n",
       "      <td>3.4</td>\n",
       "    </tr>\n",
       "    <tr>\n",
       "      <th>1489</th>\n",
       "      <td>BayOne Solutions</td>\n",
       "      <td>4.1</td>\n",
       "    </tr>\n",
       "    <tr>\n",
       "      <th>915</th>\n",
       "      <td>National Computing Group</td>\n",
       "      <td>4.7</td>\n",
       "    </tr>\n",
       "    <tr>\n",
       "      <th>77</th>\n",
       "      <td>Randstad</td>\n",
       "      <td>3.7</td>\n",
       "    </tr>\n",
       "    <tr>\n",
       "      <th>322</th>\n",
       "      <td>Quad Consultancy</td>\n",
       "      <td>4.3</td>\n",
       "    </tr>\n",
       "    <tr>\n",
       "      <th>1766</th>\n",
       "      <td>Beacon Hill Technologies</td>\n",
       "      <td>NaN</td>\n",
       "    </tr>\n",
       "    <tr>\n",
       "      <th>1860</th>\n",
       "      <td>NaN</td>\n",
       "      <td>NaN</td>\n",
       "    </tr>\n",
       "    <tr>\n",
       "      <th>621</th>\n",
       "      <td>Akraya Inc.</td>\n",
       "      <td>4.6</td>\n",
       "    </tr>\n",
       "    <tr>\n",
       "      <th>425</th>\n",
       "      <td>SunTechPros, Inc.</td>\n",
       "      <td>4.3</td>\n",
       "    </tr>\n",
       "    <tr>\n",
       "      <th>1379</th>\n",
       "      <td>MOA</td>\n",
       "      <td>1.9</td>\n",
       "    </tr>\n",
       "    <tr>\n",
       "      <th>614</th>\n",
       "      <td>Apollo Medical Holdings, Inc.</td>\n",
       "      <td>3.4</td>\n",
       "    </tr>\n",
       "    <tr>\n",
       "      <th>2165</th>\n",
       "      <td>GDKN</td>\n",
       "      <td>3.2</td>\n",
       "    </tr>\n",
       "    <tr>\n",
       "      <th>101</th>\n",
       "      <td>ektello</td>\n",
       "      <td>4.6</td>\n",
       "    </tr>\n",
       "    <tr>\n",
       "      <th>1565</th>\n",
       "      <td>QUICKEN INVESTMENT SERVICES, INC.</td>\n",
       "      <td>NaN</td>\n",
       "    </tr>\n",
       "    <tr>\n",
       "      <th>2020</th>\n",
       "      <td>Hazelcast</td>\n",
       "      <td>4.0</td>\n",
       "    </tr>\n",
       "    <tr>\n",
       "      <th>1178</th>\n",
       "      <td>Philadelphia 76ers - HBSE</td>\n",
       "      <td>NaN</td>\n",
       "    </tr>\n",
       "    <tr>\n",
       "      <th>400</th>\n",
       "      <td>Capgemini</td>\n",
       "      <td>3.8</td>\n",
       "    </tr>\n",
       "  </tbody>\n",
       "</table>\n",
       "</div>"
      ],
      "text/plain": [
       "                           Company Name  Rating\n",
       "71                      impakt Advisors     NaN\n",
       "672                             Revolve     3.3\n",
       "1009                    Sanford Federal     NaN\n",
       "1006                       Tech Finders     3.4\n",
       "1489                   BayOne Solutions     4.1\n",
       "915            National Computing Group     4.7\n",
       "77                             Randstad     3.7\n",
       "322                    Quad Consultancy     4.3\n",
       "1766           Beacon Hill Technologies     NaN\n",
       "1860                                NaN     NaN\n",
       "621                         Akraya Inc.     4.6\n",
       "425                   SunTechPros, Inc.     4.3\n",
       "1379                                MOA     1.9\n",
       "614       Apollo Medical Holdings, Inc.     3.4\n",
       "2165                               GDKN     3.2\n",
       "101                             ektello     4.6\n",
       "1565  QUICKEN INVESTMENT SERVICES, INC.     NaN\n",
       "2020                          Hazelcast     4.0\n",
       "1178          Philadelphia 76ers - HBSE     NaN\n",
       "400                           Capgemini     3.8"
      ]
     },
     "execution_count": 158,
     "metadata": {},
     "output_type": "execute_result"
    }
   ],
   "source": [
    "ds[['Company Name', 'Rating']].sample(20)"
   ]
  },
  {
   "cell_type": "markdown",
   "id": "2393ec0e",
   "metadata": {},
   "source": [
    "While previewing the above columns, we can see that the numbers at the end of the 'Company Name' are the same as the 'Rating' numbers"
   ]
  },
  {
   "cell_type": "markdown",
   "id": "5d91566f",
   "metadata": {},
   "source": [
    "##### Split and take out everthing after \"\\n\" in 'Company Name'. So we are only left with the Company Name"
   ]
  },
  {
   "cell_type": "code",
   "execution_count": 159,
   "id": "914f53c2",
   "metadata": {},
   "outputs": [
    {
     "data": {
      "text/plain": [
       "1352                                 NaN\n",
       "119                       1199SEIU Funds\n",
       "324                       1199SEIU Funds\n",
       "812                      1872 Consulting\n",
       "1074       2000 east westmoreland st llc\n",
       "1599                         212 Factors\n",
       "2222               22nd Century Staffing\n",
       "2235               22nd Century Staffing\n",
       "2212           22nd Century Technologies\n",
       "184            22nd Century Technologies\n",
       "877            22nd Century Technologies\n",
       "1254           22nd Century Technologies\n",
       "1695           22nd Century Technologies\n",
       "235                                   2U\n",
       "775                                360pi\n",
       "161                         451 Research\n",
       "347     8K Miles Software Services, Inc.\n",
       "1667                  911 Datamaster Inc\n",
       "1361           A-Line Staffing Solutions\n",
       "1151                      A2C Consulting\n",
       "Name: Company Name, dtype: object"
      ]
     },
     "execution_count": 159,
     "metadata": {},
     "output_type": "execute_result"
    }
   ],
   "source": [
    "ds['Company Name'] = ds['Company Name'].str.split(\"\\n\").str[0]\n",
    "                                                                \n",
    "ds['Company Name'].head(20)"
   ]
  },
  {
   "cell_type": "code",
   "execution_count": 160,
   "id": "278f309f",
   "metadata": {},
   "outputs": [
    {
     "data": {
      "text/html": [
       "<div>\n",
       "<style scoped>\n",
       "    .dataframe tbody tr th:only-of-type {\n",
       "        vertical-align: middle;\n",
       "    }\n",
       "\n",
       "    .dataframe tbody tr th {\n",
       "        vertical-align: top;\n",
       "    }\n",
       "\n",
       "    .dataframe thead th {\n",
       "        text-align: right;\n",
       "    }\n",
       "</style>\n",
       "<table border=\"1\" class=\"dataframe\">\n",
       "  <thead>\n",
       "    <tr style=\"text-align: right;\">\n",
       "      <th></th>\n",
       "      <th>Rating</th>\n",
       "      <th>Company Name</th>\n",
       "    </tr>\n",
       "  </thead>\n",
       "  <tbody>\n",
       "    <tr>\n",
       "      <th>1352</th>\n",
       "      <td>NaN</td>\n",
       "      <td>NaN</td>\n",
       "    </tr>\n",
       "    <tr>\n",
       "      <th>119</th>\n",
       "      <td>3.2</td>\n",
       "      <td>1199SEIU Funds</td>\n",
       "    </tr>\n",
       "    <tr>\n",
       "      <th>324</th>\n",
       "      <td>3.2</td>\n",
       "      <td>1199SEIU Funds</td>\n",
       "    </tr>\n",
       "    <tr>\n",
       "      <th>812</th>\n",
       "      <td>5.0</td>\n",
       "      <td>1872 Consulting</td>\n",
       "    </tr>\n",
       "    <tr>\n",
       "      <th>1074</th>\n",
       "      <td>NaN</td>\n",
       "      <td>2000 east westmoreland st llc</td>\n",
       "    </tr>\n",
       "    <tr>\n",
       "      <th>...</th>\n",
       "      <td>...</td>\n",
       "      <td>...</td>\n",
       "    </tr>\n",
       "    <tr>\n",
       "      <th>1934</th>\n",
       "      <td>3.9</td>\n",
       "      <td>thredUP</td>\n",
       "    </tr>\n",
       "    <tr>\n",
       "      <th>2191</th>\n",
       "      <td>5.0</td>\n",
       "      <td>xentity corporation</td>\n",
       "    </tr>\n",
       "    <tr>\n",
       "      <th>2207</th>\n",
       "      <td>5.0</td>\n",
       "      <td>xentity corporation</td>\n",
       "    </tr>\n",
       "    <tr>\n",
       "      <th>685</th>\n",
       "      <td>NaN</td>\n",
       "      <td>zz-Tarzana Treatment Centers, Inc.</td>\n",
       "    </tr>\n",
       "    <tr>\n",
       "      <th>1860</th>\n",
       "      <td>NaN</td>\n",
       "      <td>NaN</td>\n",
       "    </tr>\n",
       "  </tbody>\n",
       "</table>\n",
       "<p>2253 rows × 2 columns</p>\n",
       "</div>"
      ],
      "text/plain": [
       "      Rating                        Company Name\n",
       "1352     NaN                                 NaN\n",
       "119      3.2                      1199SEIU Funds\n",
       "324      3.2                      1199SEIU Funds\n",
       "812      5.0                     1872 Consulting\n",
       "1074     NaN       2000 east westmoreland st llc\n",
       "...      ...                                 ...\n",
       "1934     3.9                             thredUP\n",
       "2191     5.0                 xentity corporation\n",
       "2207     5.0                 xentity corporation\n",
       "685      NaN  zz-Tarzana Treatment Centers, Inc.\n",
       "1860     NaN                                 NaN\n",
       "\n",
       "[2253 rows x 2 columns]"
      ]
     },
     "execution_count": 160,
     "metadata": {},
     "output_type": "execute_result"
    }
   ],
   "source": [
    "ds[['Rating','Company Name']]"
   ]
  },
  {
   "cell_type": "markdown",
   "id": "596c49bf",
   "metadata": {},
   "source": [
    "##### Preview the 'Location' column"
   ]
  },
  {
   "cell_type": "code",
   "execution_count": 161,
   "id": "5a04c13f",
   "metadata": {},
   "outputs": [
    {
     "data": {
      "text/plain": [
       "1352             Dallas, TX\n",
       "119            New York, NY\n",
       "324            New York, NY\n",
       "812             Chicago, IL\n",
       "1074    King of Prussia, PA\n",
       "1599        Santa Clara, CA\n",
       "2222             Denver, CO\n",
       "2235             Denver, CO\n",
       "2212             Denver, CO\n",
       "184            New York, NY\n",
       "877             Chicago, IL\n",
       "1254          San Diego, CA\n",
       "1695             Austin, TX\n",
       "235            New York, NY\n",
       "775             Chicago, IL\n",
       "161            New York, NY\n",
       "347            New York, NY\n",
       "1667             Austin, TX\n",
       "1361             Dallas, TX\n",
       "1151       Philadelphia, PA\n",
       "Name: Location, dtype: object"
      ]
     },
     "execution_count": 161,
     "metadata": {},
     "output_type": "execute_result"
    }
   ],
   "source": [
    "ds[\"Location\"].head(20)"
   ]
  },
  {
   "cell_type": "markdown",
   "id": "667e05ff",
   "metadata": {},
   "source": [
    "The 'Location' column looks fine. So we will leave it alone."
   ]
  },
  {
   "cell_type": "markdown",
   "id": "78561608",
   "metadata": {},
   "source": [
    "##### Preview the 'Size' column"
   ]
  },
  {
   "cell_type": "code",
   "execution_count": 162,
   "id": "e56000eb",
   "metadata": {},
   "outputs": [
    {
     "data": {
      "text/plain": [
       "962        51 to 200 employees\n",
       "1831       51 to 200 employees\n",
       "101       201 to 500 employees\n",
       "1516                       NaN\n",
       "1618     501 to 1000 employees\n",
       "546        51 to 200 employees\n",
       "2113       51 to 200 employees\n",
       "1134       51 to 200 employees\n",
       "71           1 to 50 employees\n",
       "1901         1 to 50 employees\n",
       "1233    1001 to 5000 employees\n",
       "1801       51 to 200 employees\n",
       "1431         1 to 50 employees\n",
       "1756                       NaN\n",
       "1714                       NaN\n",
       "1934    1001 to 5000 employees\n",
       "2191       51 to 200 employees\n",
       "2207       51 to 200 employees\n",
       "685                        NaN\n",
       "1860                       NaN\n",
       "Name: Size, dtype: object"
      ]
     },
     "execution_count": 162,
     "metadata": {},
     "output_type": "execute_result"
    }
   ],
   "source": [
    "ds[\"Size\"].tail(20)"
   ]
  },
  {
   "cell_type": "markdown",
   "id": "50960a48",
   "metadata": {},
   "source": [
    "The employee \"Size\" does not have an exact number of employees for the company. It just gives a range. So for this we will only display the max number of employees for each company."
   ]
  },
  {
   "cell_type": "code",
   "execution_count": 163,
   "id": "59eeb94e",
   "metadata": {},
   "outputs": [
    {
     "data": {
      "text/plain": [
       "962      200.0\n",
       "1831     200.0\n",
       "101      500.0\n",
       "1516       NaN\n",
       "1618    1000.0\n",
       "546      200.0\n",
       "2113     200.0\n",
       "1134     200.0\n",
       "71        50.0\n",
       "1901      50.0\n",
       "1233    5000.0\n",
       "1801     200.0\n",
       "1431      50.0\n",
       "1756       NaN\n",
       "1714       NaN\n",
       "1934    5000.0\n",
       "2191     200.0\n",
       "2207     200.0\n",
       "685        NaN\n",
       "1860       NaN\n",
       "Name: Max Size, dtype: float64"
      ]
     },
     "execution_count": 163,
     "metadata": {},
     "output_type": "execute_result"
    }
   ],
   "source": [
    "ds[\"Max Size\"]=ds['Size'].str.strip('employees').str.split('to').str[1].astype('float')\n",
    "ds[\"Max Size\"].tail(20)"
   ]
  },
  {
   "cell_type": "markdown",
   "id": "c045d0f6",
   "metadata": {},
   "source": [
    "##### Preview 'Type of Ownership' column"
   ]
  },
  {
   "cell_type": "code",
   "execution_count": 164,
   "id": "05ed32a5",
   "metadata": {},
   "outputs": [
    {
     "data": {
      "text/plain": [
       "1352                       NaN\n",
       "119     Nonprofit Organization\n",
       "324     Nonprofit Organization\n",
       "812          Company - Private\n",
       "1074                       NaN\n",
       "1599                       NaN\n",
       "2222         Company - Private\n",
       "2235         Company - Private\n",
       "2212         Company - Private\n",
       "184          Company - Private\n",
       "877          Company - Private\n",
       "1254         Company - Private\n",
       "1695         Company - Private\n",
       "235           Company - Public\n",
       "775          Company - Private\n",
       "161          Company - Private\n",
       "347           Company - Public\n",
       "1667         Company - Private\n",
       "1361         Company - Private\n",
       "1151         Company - Private\n",
       "Name: Type of ownership, dtype: object"
      ]
     },
     "execution_count": 164,
     "metadata": {},
     "output_type": "execute_result"
    }
   ],
   "source": [
    "ds[\"Type of ownership\"].head(20)"
   ]
  },
  {
   "cell_type": "markdown",
   "id": "6b5628b2",
   "metadata": {},
   "source": [
    "We don't need to change much here, so we will leave this column alone"
   ]
  },
  {
   "cell_type": "markdown",
   "id": "c4626009",
   "metadata": {},
   "source": [
    "##### Preview 'Industry' column"
   ]
  },
  {
   "cell_type": "code",
   "execution_count": 165,
   "id": "00f76a29",
   "metadata": {},
   "outputs": [
    {
     "data": {
      "text/plain": [
       "1352                                        NaN\n",
       "119                          Insurance Carriers\n",
       "324                          Insurance Carriers\n",
       "812                                         NaN\n",
       "1074                                        NaN\n",
       "1599                                        NaN\n",
       "2222                     Staffing & Outsourcing\n",
       "2235                     Staffing & Outsourcing\n",
       "2212                                IT Services\n",
       "184                                 IT Services\n",
       "877                                 IT Services\n",
       "1254                                IT Services\n",
       "1695                                IT Services\n",
       "235     Enterprise Software & Network Solutions\n",
       "775     Enterprise Software & Network Solutions\n",
       "161                      Research & Development\n",
       "347                Computer Hardware & Software\n",
       "1667               Computer Hardware & Software\n",
       "1361                     Staffing & Outsourcing\n",
       "1151                                 Consulting\n",
       "Name: Industry, dtype: object"
      ]
     },
     "execution_count": 165,
     "metadata": {},
     "output_type": "execute_result"
    }
   ],
   "source": [
    "ds[\"Industry\"].head(20)"
   ]
  },
  {
   "cell_type": "markdown",
   "id": "0845e77b",
   "metadata": {},
   "source": [
    "Check how many NULLs are in the 'Industry' column"
   ]
  },
  {
   "cell_type": "code",
   "execution_count": 166,
   "id": "02d1599c",
   "metadata": {},
   "outputs": [
    {
     "data": {
      "text/plain": [
       "353"
      ]
     },
     "execution_count": 166,
     "metadata": {},
     "output_type": "execute_result"
    }
   ],
   "source": [
    "ds[\"Industry\"].isnull().sum()"
   ]
  },
  {
   "cell_type": "markdown",
   "id": "9c8d9554",
   "metadata": {},
   "source": [
    "#### Preview 'Sector' column"
   ]
  },
  {
   "cell_type": "code",
   "execution_count": 167,
   "id": "216adf8d",
   "metadata": {},
   "outputs": [
    {
     "data": {
      "text/plain": [
       "1352                       NaN\n",
       "119                  Insurance\n",
       "324                  Insurance\n",
       "812                        NaN\n",
       "1074                       NaN\n",
       "1599                       NaN\n",
       "2222         Business Services\n",
       "2235         Business Services\n",
       "2212    Information Technology\n",
       "184     Information Technology\n",
       "877     Information Technology\n",
       "1254    Information Technology\n",
       "1695    Information Technology\n",
       "235     Information Technology\n",
       "775     Information Technology\n",
       "161          Business Services\n",
       "347     Information Technology\n",
       "1667    Information Technology\n",
       "1361         Business Services\n",
       "1151         Business Services\n",
       "Name: Sector, dtype: object"
      ]
     },
     "execution_count": 167,
     "metadata": {},
     "output_type": "execute_result"
    }
   ],
   "source": [
    "ds[\"Sector\"].head(20)"
   ]
  },
  {
   "cell_type": "code",
   "execution_count": 168,
   "id": "6ca63f63",
   "metadata": {},
   "outputs": [
    {
     "data": {
      "text/plain": [
       "353"
      ]
     },
     "execution_count": 168,
     "metadata": {},
     "output_type": "execute_result"
    }
   ],
   "source": [
    "ds[\"Sector\"].isnull().sum()"
   ]
  },
  {
   "cell_type": "markdown",
   "id": "141c2997",
   "metadata": {},
   "source": [
    "The 'Sector' and 'Industry' columns give us somewhat of the same information. They also have the same number of NULL values.\n",
    "\n"
   ]
  },
  {
   "cell_type": "markdown",
   "id": "9a548392",
   "metadata": {},
   "source": [
    "We have cleaned all the main columns we will later further analyze"
   ]
  },
  {
   "cell_type": "markdown",
   "id": "4c139942",
   "metadata": {},
   "source": [
    "##### STAGE FOUR AND FIVE, WE ARE NOW ANALYSING THE DATA PATTERNS"
   ]
  },
  {
   "cell_type": "markdown",
   "id": "63e99185",
   "metadata": {},
   "source": [
    "Taking a look of the columns we have now"
   ]
  },
  {
   "cell_type": "code",
   "execution_count": 169,
   "id": "b5201da6",
   "metadata": {},
   "outputs": [
    {
     "name": "stdout",
     "output_type": "stream",
     "text": [
      "<class 'pandas.core.frame.DataFrame'>\n",
      "Int64Index: 2253 entries, 1352 to 1860\n",
      "Data columns (total 32 columns):\n",
      " #   Column             Non-Null Count  Dtype  \n",
      "---  ------             --------------  -----  \n",
      " 0   Job Title          2253 non-null   object \n",
      " 1   Salary Estimate    2252 non-null   object \n",
      " 2   Job Description    2253 non-null   object \n",
      " 3   Rating             1981 non-null   float64\n",
      " 4   Company Name       2251 non-null   object \n",
      " 5   Location           2253 non-null   object \n",
      " 6   Headquarters       2081 non-null   object \n",
      " 7   Size               2090 non-null   object \n",
      " 8   Founded            1593 non-null   float64\n",
      " 9   Type of ownership  2090 non-null   object \n",
      " 10  Industry           1900 non-null   object \n",
      " 11  Sector             1900 non-null   object \n",
      " 12  Revenue            2090 non-null   object \n",
      " 13  Competitors        521 non-null    object \n",
      " 14  Easy Apply         80 non-null     object \n",
      " 15  Salary Max         2252 non-null   float64\n",
      " 16  Salary Min         2252 non-null   float64\n",
      " 17  Salary Avg         2252 non-null   float64\n",
      " 18  Excel              2253 non-null   bool   \n",
      " 19  SQL                2253 non-null   bool   \n",
      " 20  Python             2253 non-null   bool   \n",
      " 21  Tableau            2253 non-null   bool   \n",
      " 22  Max Size           1673 non-null   float64\n",
      " 23  Javasript          2253 non-null   bool   \n",
      " 24  Javascript         2253 non-null   bool   \n",
      " 25  MySQL              2253 non-null   bool   \n",
      " 26  Power BI           2253 non-null   bool   \n",
      " 27  Word               2253 non-null   bool   \n",
      " 28  PowerPoint         2253 non-null   bool   \n",
      " 29  SAS                2253 non-null   bool   \n",
      " 30  R                  2253 non-null   bool   \n",
      " 31  AWS                2253 non-null   bool   \n",
      "dtypes: bool(13), float64(6), object(13)\n",
      "memory usage: 445.2+ KB\n"
     ]
    }
   ],
   "source": [
    "ds.info()"
   ]
  },
  {
   "cell_type": "markdown",
   "id": "efe7f0d6",
   "metadata": {},
   "source": [
    "#### Setting up new dataframes for visualization"
   ]
  },
  {
   "cell_type": "markdown",
   "id": "521c1722",
   "metadata": {},
   "source": [
    "Show the top 20 Job Titles and the number of jobs listed under each"
   ]
  },
  {
   "cell_type": "code",
   "execution_count": 170,
   "id": "83a81f2c",
   "metadata": {},
   "outputs": [
    {
     "data": {
      "text/plain": [
       "Data Analyst               405\n",
       "Sr. Data Analyst           121\n",
       "Jr. Data Analyst            51\n",
       "Business Data Analyst       28\n",
       "Data Analyst II             17\n",
       "Data Quality Analyst        17\n",
       "Data Governance Analyst     16\n",
       "Lead Data Analyst           15\n",
       "Data Reporting Analyst      13\n",
       "Financial Data Analyst      12\n",
       "Data Analyst III            11\n",
       "Data Analyst I              11\n",
       "Marketing Data Analyst       9\n",
       "Data Warehouse Analyst       8\n",
       "Data Management Analyst      8\n",
       "Data Science Analyst         7\n",
       "Technical Data Analyst       7\n",
       "SQL Data Analyst             7\n",
       "Clinical Data Analyst        6\n",
       "Research Data Analyst        6\n",
       "Name: Job Title, dtype: int64"
      ]
     },
     "execution_count": 170,
     "metadata": {},
     "output_type": "execute_result"
    }
   ],
   "source": [
    "ds['Job Title'].value_counts()[:20]"
   ]
  },
  {
   "cell_type": "markdown",
   "id": "031a2baf",
   "metadata": {},
   "source": [
    "##### Create a bar plot showing the top number of Data Analyst Jobs per Job Title"
   ]
  },
  {
   "cell_type": "code",
   "execution_count": 171,
   "id": "f3b2c11c",
   "metadata": {},
   "outputs": [
    {
     "data": {
      "image/png": "[encoded data removed]",
      "text/plain": [
       "<Figure size 1440x720 with 1 Axes>"
      ]
     },
     "metadata": {
      "needs_background": "light"
     },
     "output_type": "display_data"
    }
   ],
   "source": [
    "x=ds['Job Title'].value_counts()[:20].plot(kind='bar', figsize=(20,10))\n",
    "x.plot(color='b')\n",
    "x.set_title('Top Number of Data Analyst Jobs per Job Title', fontsize=20)\n",
    "x.set_xlabel('Job Title', fontsize=20)\n",
    "x.set_ylabel('Count', fontsize=20)\n",
    "plt.show()"
   ]
  },
  {
   "cell_type": "markdown",
   "id": "111019f4",
   "metadata": {},
   "source": [
    "From the above plot we can see that the top job titles are 'Data Analyst', 'Sr. Data Analyst' and 'Jr. Data Analyst'"
   ]
  },
  {
   "cell_type": "markdown",
   "id": "0e56e573",
   "metadata": {},
   "source": [
    "#### Find out the number of positions in each industry"
   ]
  },
  {
   "cell_type": "code",
   "execution_count": 172,
   "id": "9d06659d",
   "metadata": {},
   "outputs": [
    {
     "name": "stdout",
     "output_type": "stream",
     "text": [
      "IT Services                                325\n",
      "Staffing & Outsourcing                     323\n",
      "Health Care Services & Hospitals           151\n",
      "Consulting                                 111\n",
      "Computer Hardware & Software               111\n",
      "Investment Banking & Asset Management       78\n",
      "Enterprise Software & Network Solutions     69\n",
      "Internet                                    65\n",
      "Advertising & Marketing                     51\n",
      "Banks & Credit Unions                       51\n",
      "Insurance Carriers                          47\n",
      "Colleges & Universities                     40\n",
      "Accounting                                  39\n",
      "Biotech & Pharmaceuticals                   33\n",
      "Social Assistance                           23\n",
      "Aerospace & Defense                         22\n",
      "Video Games                                 20\n",
      "Lending                                     15\n",
      "State & Regional Agencies                   15\n",
      "Health, Beauty, & Fitness                   13\n",
      "Name: Industry, dtype: int64\n"
     ]
    }
   ],
   "source": [
    "ds_count = ds['Industry'].value_counts()\n",
    "print(ds['Industry'].value_counts()[:20])"
   ]
  },
  {
   "cell_type": "markdown",
   "id": "daba785c",
   "metadata": {},
   "source": [
    "#### Create a bar plot showing the top number of Data Analyst Jobs per Industry"
   ]
  },
  {
   "cell_type": "code",
   "execution_count": 173,
   "id": "f7f29a22",
   "metadata": {},
   "outputs": [
    {
     "data": {
      "image/png": "[encoded data removed]",
      "text/plain": [
       "<Figure size 1440x720 with 1 Axes>"
      ]
     },
     "metadata": {
      "needs_background": "light"
     },
     "output_type": "display_data"
    }
   ],
   "source": [
    "y=ds['Industry'].value_counts()[:20].plot(kind='bar', figsize=(20,10))\n",
    "y.set_title('Top Number of Data Analyst Jobs per Industry', fontsize=15)\n",
    "y.set_xlabel('Indusrty', fontsize=16)\n",
    "y.set_ylabel('Count', fontsize=16)\n",
    "plt.show()"
   ]
  },
  {
   "cell_type": "markdown",
   "id": "84af465a",
   "metadata": {},
   "source": [
    "#### Finding the estimated mean of 'Salary Min', 'Salary Max' and 'Salary Avg' for each Industry"
   ]
  },
  {
   "cell_type": "code",
   "execution_count": 174,
   "id": "86fa9979",
   "metadata": {},
   "outputs": [
    {
     "name": "stdout",
     "output_type": "stream",
     "text": [
      "                                Industry  Salary Min  Salary Max  Salary Avg\n",
      "0                             Accounting     59000.0     93000.0     76000.0\n",
      "1                Advertising & Marketing     53000.0     92000.0     73000.0\n",
      "2                    Aerospace & Defense     52000.0     85000.0     68000.0\n",
      "3   Architectural & Engineering Services     52000.0     92000.0     72000.0\n",
      "4                            Audiovisual     24000.0     48000.0     36000.0\n",
      "..                                   ...         ...         ...         ...\n",
      "83                             Utilities     67000.0    100000.0     83000.0\n",
      "84                       Vehicle Dealers     39000.0     60000.0     50000.0\n",
      "85      Venture Capital & Private Equity     63000.0     94000.0     78000.0\n",
      "86                           Video Games     51000.0     86000.0     68000.0\n",
      "87                             Wholesale     58000.0     89000.0     74000.0\n",
      "\n",
      "[88 rows x 4 columns]\n"
     ]
    }
   ],
   "source": [
    "Dt_Sum1 = ds.groupby(['Industry'], as_index=False)[['Salary Min', 'Salary Max', 'Salary Avg']].mean().round()\n",
    "Dt_Salary_Avg = Dt_Sum1[['Industry','Salary Min', 'Salary Max', 'Salary Avg']]\n",
    "Dt_Salary_Avg[['Salary Min', 'Salary Max', 'Salary Avg']]= Dt_Salary_Avg[['Salary Min', 'Salary Max', 'Salary Avg']]*1000\n",
    "print(Dt_Salary_Avg)"
   ]
  },
  {
   "cell_type": "code",
   "execution_count": 175,
   "id": "67f7289d",
   "metadata": {},
   "outputs": [],
   "source": [
    "import seaborn as sns"
   ]
  },
  {
   "cell_type": "markdown",
   "id": "aa874593",
   "metadata": {},
   "source": [
    "#### Rating distribution"
   ]
  },
  {
   "cell_type": "markdown",
   "id": "a48ca97a",
   "metadata": {},
   "source": [
    "Rating distribution\n",
    "Most of the company are rated by their employees/former employees at around 3 - 4 points. According to the Glassdoor, this range meaning that employees of from those company are feeling \"Ok\" and \"Satisfied\" working there."
   ]
  },
  {
   "cell_type": "code",
   "execution_count": 176,
   "id": "11714b78",
   "metadata": {},
   "outputs": [
    {
     "data": {
      "image/png": "[encoded data removed]",
      "text/plain": [
       "<Figure size 432x288 with 1 Axes>"
      ]
     },
     "metadata": {
      "needs_background": "light"
     },
     "output_type": "display_data"
    }
   ],
   "source": [
    "fig, ax = plt.subplots()\n",
    "\n",
    "sns.histplot(data=ds, x='Rating', ax=ax, binwidth=0.2)\n",
    "\n",
    "ax.set_title('Company Rating Distribution')\n",
    "ax.set_xlabel('Company rating')\n",
    "\n",
    "plt.show()"
   ]
  },
  {
   "cell_type": "markdown",
   "id": "933e0d35",
   "metadata": {},
   "source": [
    "### Number of job posts per job title"
   ]
  },
  {
   "cell_type": "markdown",
   "id": "0d0fbfc2",
   "metadata": {},
   "source": [
    "Around 600 of the job posts are for 'Data Analyst' position."
   ]
  },
  {
   "cell_type": "code",
   "execution_count": 177,
   "id": "014b30aa",
   "metadata": {},
   "outputs": [
    {
     "data": {
      "image/png": "[encoded data removed]",
      "text/plain": [
       "<Figure size 720x576 with 1 Axes>"
      ]
     },
     "metadata": {
      "needs_background": "light"
     },
     "output_type": "display_data"
    }
   ],
   "source": [
    "most_posts_title = ds['Job Title'].value_counts()[:20].sort_values()\n",
    "\n",
    "fig, ax = plt.subplots(figsize=(10,8))\n",
    "\n",
    "bars = ax.barh(most_posts_title.index, most_posts_title.values)\n",
    "\n",
    "ax.set_xlim(right=600)\n",
    "\n",
    "ax.set_title('Number of Job Posts per Job Title')\n",
    "ax.set_xlabel('# of job posts')\n",
    "plt.show()"
   ]
  },
  {
   "cell_type": "markdown",
   "id": "2a0506d6",
   "metadata": {},
   "source": [
    "### Number of job post for each sector"
   ]
  },
  {
   "cell_type": "markdown",
   "id": "9920ebb1",
   "metadata": {},
   "source": [
    "IT and business services are sectors with the highest demand for data analyst with more than 500 job posts."
   ]
  },
  {
   "cell_type": "code",
   "execution_count": 178,
   "id": "cb55d6c6",
   "metadata": {},
   "outputs": [
    {
     "data": {
      "image/png": "[encoded data removed]",
      "text/plain": [
       "<Figure size 576x504 with 1 Axes>"
      ]
     },
     "metadata": {
      "needs_background": "light"
     },
     "output_type": "display_data"
    }
   ],
   "source": [
    "fig, ax = plt.subplots(figsize=(8,7))\n",
    "\n",
    "ax = sns.countplot(data=ds, y='Sector', order=ds['Sector'].value_counts().index, color='steelblue')\n",
    "\n",
    "ax.set_title('Number of Data Analyst Job Posts per Sector')\n",
    "ax.set_xlabel('# of job posts')\n",
    "ax.set_ylabel('')\n",
    "\n",
    "plt.show()\n"
   ]
  },
  {
   "cell_type": "markdown",
   "id": "1ef569fb",
   "metadata": {},
   "source": [
    "### The most in demand skills for data analyst"
   ]
  },
  {
   "cell_type": "markdown",
   "id": "ff3515fc",
   "metadata": {},
   "source": [
    "SQL and Excel are the most in demand skills for data analyst with over 60% of the job posts mention them."
   ]
  },
  {
   "cell_type": "code",
   "execution_count": 180,
   "id": "92916ff7",
   "metadata": {},
   "outputs": [
    {
     "data": {
      "image/png": "[encoded data removed]",
      "text/plain": [
       "<Figure size 576x432 with 1 Axes>"
      ]
     },
     "metadata": {
      "needs_background": "light"
     },
     "output_type": "display_data"
    }
   ],
   "source": [
    "skill_count = ds[\n",
    "    ('SQL, Excel, Tableau, MySQL, Javascript, AWS, R, PowerPoint, Word, Power BI, Excel, SAS').split(', ')\n",
    "].sum().sort_values(ascending=True)\n",
    "\n",
    "skill_count_pct = skill_count / len(ds) * 100\n",
    "\n",
    "total_posts = len(ds)\n",
    "\n",
    "fig, ax = plt.subplots(figsize=(8,6))\n",
    "\n",
    "bars = ax.barh(skill_count_pct.index,\n",
    "       skill_count_pct.values)\n",
    "\n",
    "\n",
    "\n",
    "ax.set_title('The Most in Demand Skills for Data Analyst Job', y=1.01)\n",
    "ax.set_xlabel('% of job post')\n",
    "ax.set_xticks([])\n",
    "\n",
    "ax.set_xlim(right=75)\n",
    "\n",
    "plt.show()"
   ]
  },
  {
   "cell_type": "markdown",
   "id": "1b33b3cc",
   "metadata": {},
   "source": [
    "### Number of job posts posted by companies"
   ]
  },
  {
   "cell_type": "markdown",
   "id": "b7601371",
   "metadata": {},
   "source": [
    "Staffigo Technical Services, LLC posts the most data analyst job posts in the data."
   ]
  },
  {
   "cell_type": "code",
   "execution_count": 191,
   "id": "0855d638",
   "metadata": {},
   "outputs": [
    {
     "data": {
      "image/png": "[encoded data removed]",
      "text/plain": [
       "<Figure size 576x432 with 1 Axes>"
      ]
     },
     "metadata": {
      "needs_background": "light"
     },
     "output_type": "display_data"
    }
   ],
   "source": [
    "Company_Name = ds['Company Name'].value_counts()[:20].sort_values()\n",
    "\n",
    "fig, ax = plt.subplots(figsize=(8,6))\n",
    "\n",
    "ax.barh(Company_Name.index, Company_Name.values)\n",
    "\n",
    "ax.set_title('Number of Job Posts Posted by Each Companies')\n",
    "ax.set_xlabel('# of job posts')\n",
    "\n",
    "plt.show()"
   ]
  },
  {
   "cell_type": "markdown",
   "id": "16bc1f45",
   "metadata": {},
   "source": [
    "### Create dataframes to download to Tableau to be able to create other visuals"
   ]
  },
  {
   "cell_type": "code",
   "execution_count": 193,
   "id": "abb500ab",
   "metadata": {},
   "outputs": [],
   "source": [
    "dsRating = ds[['Rating','Company Name']].drop_duplicates()"
   ]
  },
  {
   "cell_type": "code",
   "execution_count": 194,
   "id": "f00d7a68",
   "metadata": {},
   "outputs": [],
   "source": [
    "dsComp = ds[['Company Name','Industry']]"
   ]
  },
  {
   "cell_type": "code",
   "execution_count": 195,
   "id": "1fa435df",
   "metadata": {},
   "outputs": [],
   "source": [
    "dsLoc = ds[['Rating','Company Name','Location']].drop_duplicates()\n"
   ]
  },
  {
   "cell_type": "markdown",
   "id": "551ee243",
   "metadata": {},
   "source": [
    "### Insights:\n",
    "## 1.Looking at the top Industries with the most job positions available, we can see that the top 5 are.\n",
    "\n",
    " ## .IT \n",
    " - Has 325 positions available and has only 5 companies with a ranking of 5 and 1 company with a ranking of 7.3. The rest of the companies are ranked below 5. The company with the highest ranking is ‘Xoriant Corporation’ and it has no specified company location available. For this industry the estimated average Minimum Salary is 53,000, Max Salary 89,000 and Average Salary 71,000.\n",
    "## .Staffing & Outsourcing\n",
    "- Has 323 positions available and has 10 companies with a ranking of 5. The highest ranked companies in this industry are ‘Abacus Service Corporation’, ranked 8.5 , with no specified location. ‘Mondo’, ranked 7.7, also with no specified location available and ‘Randstad’, ranked 7.3, with no location available. For this industry the estimated average Minimum Salary is 56,000, Maximum Salary 91,000 and Average Salary 73,000.\n",
    "## Health Care Services & Hospitals\n",
    "- Has 151 positions available. All the companies under this industry has a rating below 5. For this industry the estimated average Minimum Salary is 55,000, Maximum Salary 90,000 and Average Salary 73,000.\n",
    "Computer Hardware & Software- Has 111 positions available with only 3 companies ranked a 5 and 1 company ranked 8.3. The highest ranked company is named ‘Source of Future Technologies’, with no specified location available. This industry estimated average Minimum Salary is 58,000, Maximum Salary 98,000 and Average Salary 78,000.\n",
    "Consulting – Has 111 positions available and has 5 companies ranked a 5. This industry has an estimated average Minimum Salary is 53,000, Maximum Salary 89,000 and Average Salary 71,000.\n",
    "\n",
    "\n"
   ]
  },
  {
   "cell_type": "code",
   "execution_count": null,
   "id": "af29174d",
   "metadata": {},
   "outputs": [],
   "source": []
  }
 ],
 "metadata": {
  "kernelspec": {
   "display_name": "Python 3 (ipykernel)",
   "language": "python",
   "name": "python3"
  },
  "language_info": {
   "codemirror_mode": {
    "name": "ipython",
    "version": 3
   },
   "file_extension": ".py",
   "mimetype": "text/x-python",
   "name": "python",
   "nbconvert_exporter": "python",
   "pygments_lexer": "ipython3",
   "version": "3.9.13"
  }
 },
 "nbformat": 4,
 "nbformat_minor": 5
}
